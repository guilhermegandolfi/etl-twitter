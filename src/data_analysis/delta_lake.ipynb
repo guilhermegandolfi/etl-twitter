{
 "cells": [
  {
   "cell_type": "code",
   "execution_count": 1,
   "id": "76c30a83-6bde-4a2c-8ce5-96a8e677d872",
   "metadata": {},
   "outputs": [
    {
     "name": "stdout",
     "output_type": "stream",
     "text": [
      "Starting Spark application\n"
     ]
    },
    {
     "data": {
      "text/html": [
       "<table>\n",
       "<tr><th>ID</th><th>YARN Application ID</th><th>Kind</th><th>State</th><th>Spark UI</th><th>Driver log</th><th>User</th><th>Current session?</th></tr><tr><td>2</td><td>None</td><td>pyspark</td><td>idle</td><td></td><td></td><td>None</td><td>✔</td></tr></table>"
      ],
      "text/plain": [
       "<IPython.core.display.HTML object>"
      ]
     },
     "metadata": {},
     "output_type": "display_data"
    },
    {
     "data": {
      "application/vnd.jupyter.widget-view+json": {
       "model_id": "",
       "version_major": 2,
       "version_minor": 0
      },
      "text/plain": [
       "FloatProgress(value=0.0, bar_style='info', description='Progress:', layout=Layout(height='25px', width='50%'),…"
      ]
     },
     "metadata": {},
     "output_type": "display_data"
    },
    {
     "name": "stdout",
     "output_type": "stream",
     "text": [
      "SparkSession available as 'spark'.\n"
     ]
    },
    {
     "data": {
      "application/vnd.jupyter.widget-view+json": {
       "model_id": "",
       "version_major": 2,
       "version_minor": 0
      },
      "text/plain": [
       "FloatProgress(value=0.0, bar_style='info', description='Progress:', layout=Layout(height='25px', width='50%'),…"
      ]
     },
     "metadata": {},
     "output_type": "display_data"
    }
   ],
   "source": [
    "import pyspark\n",
    "from pyspark.sql import SparkSession\n",
    "from pyspark.sql.types import StructType,StructField, StringType, IntegerType \n",
    "from pyspark.sql.types import ArrayType, DoubleType, BooleanType\n",
    "from pyspark.sql.functions import col,array_contains\n",
    "\n",
    "spark = SparkSession.builder.appName('SparkByExamples.com').getOrCreate()"
   ]
  },
  {
   "cell_type": "code",
   "execution_count": 2,
   "id": "e55ec2f4-c5e7-4208-b83a-b9887b35988f",
   "metadata": {},
   "outputs": [
    {
     "name": "stdout",
     "output_type": "stream",
     "text": [
      "Starting Spark application\n"
     ]
    },
    {
     "data": {
      "text/html": [
       "<table>\n",
       "<tr><th>ID</th><th>YARN Application ID</th><th>Kind</th><th>State</th><th>Spark UI</th><th>Driver log</th><th>User</th><th>Current session?</th></tr><tr><td>3</td><td>None</td><td>pyspark</td><td>idle</td><td></td><td></td><td>None</td><td>✔</td></tr></table>"
      ],
      "text/plain": [
       "<IPython.core.display.HTML object>"
      ]
     },
     "metadata": {},
     "output_type": "display_data"
    },
    {
     "data": {
      "application/vnd.jupyter.widget-view+json": {
       "model_id": "",
       "version_major": 2,
       "version_minor": 0
      },
      "text/plain": [
       "FloatProgress(value=0.0, bar_style='info', description='Progress:', layout=Layout(height='25px', width='50%'),…"
      ]
     },
     "metadata": {},
     "output_type": "display_data"
    },
    {
     "name": "stdout",
     "output_type": "stream",
     "text": [
      "SparkSession available as 'spark'.\n"
     ]
    },
    {
     "data": {
      "text/html": [
       "Current session configs: <tt>{'conf': {'spark.jars.packages': 'io.delta:delta-core_2.12:1.0.0', 'spark.sql.extensions': 'io.delta.sql.DeltaSparkSessionExtension', 'spark.sql.catalog.spark_catalog': 'org.apache.spark.sql.delta.catalog.DeltaCatalog'}, 'kind': 'pyspark'}</tt><br>"
      ],
      "text/plain": [
       "<IPython.core.display.HTML object>"
      ]
     },
     "metadata": {},
     "output_type": "display_data"
    },
    {
     "data": {
      "text/html": [
       "<table>\n",
       "<tr><th>ID</th><th>YARN Application ID</th><th>Kind</th><th>State</th><th>Spark UI</th><th>Driver log</th><th>User</th><th>Current session?</th></tr><tr><td>1</td><td>None</td><td>pyspark</td><td>idle</td><td></td><td></td><td>None</td><td></td></tr><tr><td>3</td><td>None</td><td>pyspark</td><td>idle</td><td></td><td></td><td>None</td><td>✔</td></tr></table>"
      ],
      "text/plain": [
       "<IPython.core.display.HTML object>"
      ]
     },
     "metadata": {},
     "output_type": "display_data"
    }
   ],
   "source": [
    "%%configure -f\n",
    "{\n",
    "    \"conf\": {\n",
    "        \"spark.jars.packages\": \"io.delta:delta-core_2.12:1.0.0\",\n",
    "        \"spark.sql.extensions\":\"io.delta.sql.DeltaSparkSessionExtension\",\n",
    "        \"spark.sql.catalog.spark_catalog\":\"org.apache.spark.sql.delta.catalog.DeltaCatalog\"\n",
    "    }\n",
    "}"
   ]
  },
  {
   "cell_type": "code",
   "execution_count": 3,
   "id": "7bfa48d7-135e-4dd2-86fd-9cba2d83a50b",
   "metadata": {},
   "outputs": [
    {
     "data": {
      "application/vnd.jupyter.widget-view+json": {
       "model_id": "",
       "version_major": 2,
       "version_minor": 0
      },
      "text/plain": [
       "FloatProgress(value=0.0, bar_style='info', description='Progress:', layout=Layout(height='25px', width='50%'),…"
      ]
     },
     "metadata": {},
     "output_type": "display_data"
    }
   ],
   "source": [
    "df = spark.read.csv('s3://pags-avengers-dev/agg_data/spotify/dat_load=20230223/top_100_streamed_songs.csv',inferSchema=True)"
   ]
  },
  {
   "cell_type": "code",
   "execution_count": 4,
   "id": "0a7e6396-b328-453d-91c5-7118c883db5a",
   "metadata": {},
   "outputs": [
    {
     "data": {
      "application/vnd.jupyter.widget-view+json": {
       "model_id": "",
       "version_major": 2,
       "version_minor": 0
      },
      "text/plain": [
       "FloatProgress(value=0.0, bar_style='info', description='Progress:', layout=Layout(height='25px', width='50%'),…"
      ]
     },
     "metadata": {},
     "output_type": "display_data"
    },
    {
     "name": "stdout",
     "output_type": "stream",
     "text": [
      "+--------------------+--------------------+--------+------+---+--------+----+-----------+------------+----------------+--------+-------+-------+------------+\n",
      "|                 _c0|                 _c1|     _c2|   _c3|_c4|     _c5| _c6|        _c7|         _c8|             _c9|    _c10|   _c11|   _c12|        _c13|\n",
      "+--------------------+--------------------+--------+------+---+--------+----+-----------+------------+----------------+--------+-------+-------+------------+\n",
      "|                  id|                name|duration|energy|key|loudness|mode|speechiness|acousticness|instrumentalness|liveness|valence|  tempo|danceability|\n",
      "|4ZtFanR9U6ndgddUv...|Good 4 U Olivia R...|    2.97| 0.664|  9|  -5.044|   1|      0.154|       0.335|             0.0|  0.0849|  0.688|166.928|       0.563|\n",
      "|5fxyZf6m2xHeSrOzU...|Stay The Kid LARO...|     2.3| 0.506|  8| -11.275|   1|     0.0589|       0.379|           0.868|    0.11|  0.454|170.054|       0.564|\n",
      "|5nujrmhLynf4yMoMt...|Levitating Dua Li...|    3.38| 0.825|  6|  -3.787|   0|     0.0601|     0.00883|             0.0|  0.0674|  0.915|102.977|       0.702|\n",
      "|4iJyoBOLtHqaGxP12...|Peaches Justin Bi...|     3.3| 0.696|  0|  -6.181|   1|      0.119|       0.321|             0.0|    0.42|  0.464|  90.03|       0.677|\n",
      "|1SC5rEoYDGUK4NfG8...|Montero (Call Me ...|     2.3| 0.503|  8|  -6.725|   0|       0.22|       0.293|             0.0|   0.405|   0.71|178.781|       0.593|\n",
      "|3DarAbFujv6eYNliU...|Kiss Me More (fea...|    3.48| 0.705|  8|  -3.463|   1|     0.0284|       0.259|        8.92e-05|    0.12|  0.781| 110.97|       0.764|\n",
      "|02VBYrHfVwfEWXk5D...|Leave The Door Op...|    4.03| 0.616|  5|  -7.964|   1|     0.0324|       0.182|             0.0|  0.0927|  0.719|148.088|       0.586|\n",
      "|5wANPM4fQCJwkGd4r...|drivers license O...|    4.03| 0.431| 10|   -8.81|   1|     0.0578|       0.768|        1.42e-05|   0.106|  0.137|143.875|       0.561|\n",
      "|0VjIjW4GlUZAMYd2v...|Blinding Lights T...|    3.33|  0.73|  1|  -5.934|   1|     0.0598|     0.00146|        9.54e-05|  0.0897|  0.334|171.005|       0.514|\n",
      "+--------------------+--------------------+--------+------+---+--------+----+-----------+------------+----------------+--------+-------+-------+------------+\n",
      "only showing top 10 rows"
     ]
    }
   ],
   "source": [
    "df.show(10)"
   ]
  },
  {
   "cell_type": "code",
   "execution_count": 5,
   "id": "f0b7ba82-450f-46af-ae0c-3badeb5530df",
   "metadata": {},
   "outputs": [
    {
     "data": {
      "application/vnd.jupyter.widget-view+json": {
       "model_id": "",
       "version_major": 2,
       "version_minor": 0
      },
      "text/plain": [
       "FloatProgress(value=0.0, bar_style='info', description='Progress:', layout=Layout(height='25px', width='50%'),…"
      ]
     },
     "metadata": {},
     "output_type": "display_data"
    },
    {
     "name": "stderr",
     "output_type": "stream",
     "text": [
      "An error was encountered:\n",
      "unterminated string literal (detected at line 2) (<stdin>, line 2)\n",
      "  File \"<stdin>\", line 2\n",
      "    os.environ['PYSPARK_SUBMIT_ARGS'] = '-- packages com.amazonaws:aws-java-sdk:1.7.4,org.apache.hadoop:hadoop-\n",
      "                                        ^\n",
      "SyntaxError: unterminated string literal (detected at line 2)\n",
      "\n"
     ]
    }
   ],
   "source": [
    "import os\n",
    "os.environ['PYSPARK_SUBMIT_ARGS'] = '-- packages com.amazonaws:aws-java-sdk:1.7.4,org.apache.hadoop:hadoop-"
   ]
  },
  {
   "cell_type": "code",
   "execution_count": 6,
   "id": "635abde4-1225-4a65-a3db-793fdca0f8be",
   "metadata": {},
   "outputs": [
    {
     "data": {
      "application/vnd.jupyter.widget-view+json": {
       "model_id": "",
       "version_major": 2,
       "version_minor": 0
      },
      "text/plain": [
       "FloatProgress(value=0.0, bar_style='info', description='Progress:', layout=Layout(height='25px', width='50%'),…"
      ]
     },
     "metadata": {},
     "output_type": "display_data"
    }
   ],
   "source": [
    "df.write.format(\"delta\") \\\n",
    "    .mode(\"overwrite\") \\\n",
    "    .save(\"s3://pags-avengers-dev/agg_data/spotify_delta/dat_load=20230223/\")"
   ]
  },
  {
   "cell_type": "code",
   "execution_count": 7,
   "id": "1931f95c-f9ab-4cee-8a68-9e2bd9c76fa1",
   "metadata": {},
   "outputs": [
    {
     "data": {
      "application/vnd.jupyter.widget-view+json": {
       "model_id": "",
       "version_major": 2,
       "version_minor": 0
      },
      "text/plain": [
       "FloatProgress(value=0.0, bar_style='info', description='Progress:', layout=Layout(height='25px', width='50%'),…"
      ]
     },
     "metadata": {},
     "output_type": "display_data"
    }
   ],
   "source": [
    "from delta.tables import *\n",
    "from pyspark.sql.functions import *"
   ]
  },
  {
   "cell_type": "code",
   "execution_count": 9,
   "id": "a590be80-1ba5-4813-bd30-bab5d3ecd664",
   "metadata": {},
   "outputs": [
    {
     "data": {
      "application/vnd.jupyter.widget-view+json": {
       "model_id": "",
       "version_major": 2,
       "version_minor": 0
      },
      "text/plain": [
       "FloatProgress(value=0.0, bar_style='info', description='Progress:', layout=Layout(height='25px', width='50%'),…"
      ]
     },
     "metadata": {},
     "output_type": "display_data"
    }
   ],
   "source": [
    "deltaTable = DeltaTable.forPath(spark, \"s3://pags-avengers-dev/agg_data/spotify_delta/dat_load=20230223/\")"
   ]
  },
  {
   "cell_type": "code",
   "execution_count": 11,
   "id": "9f42d7e4-0d28-4cbe-90c1-5f9d802b2f3e",
   "metadata": {},
   "outputs": [
    {
     "data": {
      "application/vnd.jupyter.widget-view+json": {
       "model_id": "",
       "version_major": 2,
       "version_minor": 0
      },
      "text/plain": [
       "FloatProgress(value=0.0, bar_style='info', description='Progress:', layout=Layout(height='25px', width='50%'),…"
      ]
     },
     "metadata": {},
     "output_type": "display_data"
    },
    {
     "name": "stderr",
     "output_type": "stream",
     "text": [
      "An error was encountered:\n",
      "'SparkSession' object has no attribute '_wrapped'\n",
      "Traceback (most recent call last):\n",
      "  File \"/tmp/spark-97cb2436-de89-4692-96c0-8607599a8cda/userFiles-c40a6946-efbd-4ce9-8872-afb6e7d3b3d4/io.delta_delta-core_2.12-1.0.0.jar/delta/tables.py\", line 47, in toDF\n",
      "    return DataFrame(self._jdt.toDF(), self._spark._wrapped)\n",
      "AttributeError: 'SparkSession' object has no attribute '_wrapped'\n",
      "\n"
     ]
    }
   ],
   "source": [
    "deltaTable.toDF().show(truncate=False)"
   ]
  },
  {
   "cell_type": "code",
   "execution_count": 13,
   "id": "79c29f83-a215-44de-8eaf-20faf41ede13",
   "metadata": {},
   "outputs": [
    {
     "data": {
      "application/vnd.jupyter.widget-view+json": {
       "model_id": "",
       "version_major": 2,
       "version_minor": 0
      },
      "text/plain": [
       "FloatProgress(value=0.0, bar_style='info', description='Progress:', layout=Layout(height='25px', width='50%'),…"
      ]
     },
     "metadata": {},
     "output_type": "display_data"
    },
    {
     "name": "stdout",
     "output_type": "stream",
     "text": [
      "+--------------------+--------------------+--------+------+---+--------+----+-----------+------------+----------------+--------+-------+-------+------------+\n",
      "|                 _c0|                 _c1|     _c2|   _c3|_c4|     _c5| _c6|        _c7|         _c8|             _c9|    _c10|   _c11|   _c12|        _c13|\n",
      "+--------------------+--------------------+--------+------+---+--------+----+-----------+------------+----------------+--------+-------+-------+------------+\n",
      "|                  id|                name|duration|energy|key|loudness|mode|speechiness|acousticness|instrumentalness|liveness|valence|  tempo|danceability|\n",
      "|4ZtFanR9U6ndgddUv...|Good 4 U Olivia R...|    2.97| 0.664|  9|  -5.044|   1|      0.154|       0.335|             0.0|  0.0849|  0.688|166.928|       0.563|\n",
      "|5fxyZf6m2xHeSrOzU...|Stay The Kid LARO...|     2.3| 0.506|  8| -11.275|   1|     0.0589|       0.379|           0.868|    0.11|  0.454|170.054|       0.564|\n",
      "|5nujrmhLynf4yMoMt...|Levitating Dua Li...|    3.38| 0.825|  6|  -3.787|   0|     0.0601|     0.00883|             0.0|  0.0674|  0.915|102.977|       0.702|\n",
      "|4iJyoBOLtHqaGxP12...|Peaches Justin Bi...|     3.3| 0.696|  0|  -6.181|   1|      0.119|       0.321|             0.0|    0.42|  0.464|  90.03|       0.677|\n",
      "|1SC5rEoYDGUK4NfG8...|Montero (Call Me ...|     2.3| 0.503|  8|  -6.725|   0|       0.22|       0.293|             0.0|   0.405|   0.71|178.781|       0.593|\n",
      "|3DarAbFujv6eYNliU...|Kiss Me More (fea...|    3.48| 0.705|  8|  -3.463|   1|     0.0284|       0.259|        8.92e-05|    0.12|  0.781| 110.97|       0.764|\n",
      "|02VBYrHfVwfEWXk5D...|Leave The Door Op...|    4.03| 0.616|  5|  -7.964|   1|     0.0324|       0.182|             0.0|  0.0927|  0.719|148.088|       0.586|\n",
      "|5wANPM4fQCJwkGd4r...|drivers license O...|    4.03| 0.431| 10|   -8.81|   1|     0.0578|       0.768|        1.42e-05|   0.106|  0.137|143.875|       0.561|\n",
      "|0VjIjW4GlUZAMYd2v...|Blinding Lights T...|    3.33|  0.73|  1|  -5.934|   1|     0.0598|     0.00146|        9.54e-05|  0.0897|  0.334|171.005|       0.514|\n",
      "|6HU7h9RYOaPRFeh0R...|Deja Vu Olivia Ro...|    3.59| 0.612|  2|  -7.222|   1|      0.112|       0.584|         5.7e-06|    0.37|  0.178|180.917|       0.442|\n",
      "|6f3Slt0GbA2bPZlz0...| The Business Tiësto|    2.73|  0.62|  8|  -7.079|   0|      0.232|       0.414|          0.0192|   0.112|  0.235|120.031|       0.798|\n",
      "|3Ofmpyhv5UAQ70mEN...|Astronaut In The ...|    2.21| 0.695|  4|  -6.865|   0|     0.0913|       0.175|             0.0|    0.15|  0.472|149.996|       0.778|\n",
      "|18vXApRmJSgQ6wG2l...|      Rapstar Polo G|    2.77| 0.536|  6|  -6.862|   1|      0.242|        0.41|             0.0|   0.129|  0.437| 81.039|       0.789|\n",
      "|5zFglKYiknIxks8ge...|Beautiful Mistake...|    3.79| 0.676| 10|  -5.483|   1|      0.027|      0.0377|             0.0|   0.154|  0.721| 99.048|       0.713|\n",
      "|27tDoZsybt3KvJWTD...|Heartbreak Annive...|    3.31| 0.459|  0|  -8.955|   1|      0.074|       0.546|        1.05e-06|   0.307|  0.565| 87.064|       0.443|\n",
      "|02MWAaffLxlfxAUY7...|Heat Waves Glass ...|    3.98| 0.525| 11|    -6.9|   1|     0.0944|        0.44|         6.7e-06|  0.0921|  0.531|  80.87|       0.761|\n",
      "|7mmYQV0o7sW0pM8rN...|Without You (with...|    2.71|  0.42|  0|   -7.98|   1|     0.0334|       0.834|           0.927|   0.264|  0.603| 90.995|       0.569|\n",
      "|4jPy3l0RUwlUI9T5X...|Mood (feat. iann ...|    2.34| 0.716|  7|  -3.671|   0|     0.0361|       0.174|             0.0|   0.324|  0.732| 91.007|       0.701|\n",
      "|7tZHEwEYKcI3kJLi9...|Fiel Los Legendar...|    4.27|  0.43|  6|  -7.477|   0|     0.0255|       0.735|           0.941|   0.124|    0.3| 97.976|       0.685|\n",
      "+--------------------+--------------------+--------+------+---+--------+----+-----------+------------+----------------+--------+-------+-------+------------+\n",
      "only showing top 20 rows"
     ]
    }
   ],
   "source": [
    "df1 = (\n",
    "    spark.read.format(\"delta\")\n",
    "    .load(\"s3://pags-avengers-dev/agg_data/spotify_delta/dat_load=20230223/\")\n",
    ")\n",
    "df1.show()"
   ]
  },
  {
   "cell_type": "code",
   "execution_count": null,
   "id": "767c5197-4fae-441a-86de-bc910bfd79f3",
   "metadata": {},
   "outputs": [],
   "source": []
  }
 ],
 "metadata": {
  "kernelspec": {
   "display_name": "PySpark",
   "language": "python",
   "name": "pysparkkernel"
  },
  "language_info": {
   "codemirror_mode": {
    "name": "python",
    "version": 3
   },
   "file_extension": ".py",
   "mimetype": "text/x-python",
   "name": "pyspark",
   "pygments_lexer": "python3"
  }
 },
 "nbformat": 4,
 "nbformat_minor": 5
}
