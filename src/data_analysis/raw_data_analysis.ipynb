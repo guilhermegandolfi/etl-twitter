{
 "cells": [
  {
   "cell_type": "code",
   "execution_count": 83,
   "id": "955c024b-47de-45d2-89ad-012957825a1a",
   "metadata": {},
   "outputs": [],
   "source": [
    "import requests\n",
    "import os \n",
    "from datetime import datetime"
   ]
  },
  {
   "cell_type": "code",
   "execution_count": 71,
   "id": "ef47c0b9-a0d3-4171-b368-9cdde0d1f4f9",
   "metadata": {},
   "outputs": [],
   "source": [
    "url='https://swapi.dev/api/people/?page=9'"
   ]
  },
  {
   "cell_type": "code",
   "execution_count": 72,
   "id": "3b936239-1c7e-4a8b-9235-8954f20d24fd",
   "metadata": {},
   "outputs": [],
   "source": [
    "r = requests.get(url)"
   ]
  },
  {
   "cell_type": "code",
   "execution_count": 73,
   "id": "042ed1b1-c3f1-4a41-856f-39afa19913b4",
   "metadata": {},
   "outputs": [
    {
     "data": {
      "text/plain": [
       "200"
      ]
     },
     "execution_count": 73,
     "metadata": {},
     "output_type": "execute_result"
    }
   ],
   "source": [
    "r.status_code"
   ]
  },
  {
   "cell_type": "code",
   "execution_count": 74,
   "id": "390ef93e-ed05-41e4-bb12-51ee4944649e",
   "metadata": {},
   "outputs": [],
   "source": [
    "result = r.json()"
   ]
  },
  {
   "cell_type": "code",
   "execution_count": 75,
   "id": "7a315457-7063-4911-8791-da54bc40eb8a",
   "metadata": {},
   "outputs": [
    {
     "data": {
      "text/plain": [
       "dict"
      ]
     },
     "execution_count": 75,
     "metadata": {},
     "output_type": "execute_result"
    }
   ],
   "source": [
    "type(result)"
   ]
  },
  {
   "cell_type": "code",
   "execution_count": 76,
   "id": "16a7d7d4-a460-4fce-8623-d6e9bb8dd966",
   "metadata": {},
   "outputs": [
    {
     "data": {
      "text/plain": [
       "{'count': 82,\n",
       " 'next': None,\n",
       " 'previous': 'https://swapi.dev/api/people/?page=8',\n",
       " 'results': [{'name': 'Sly Moore',\n",
       "   'height': '178',\n",
       "   'mass': '48',\n",
       "   'hair_color': 'none',\n",
       "   'skin_color': 'pale',\n",
       "   'eye_color': 'white',\n",
       "   'birth_year': 'unknown',\n",
       "   'gender': 'female',\n",
       "   'homeworld': 'https://swapi.dev/api/planets/60/',\n",
       "   'films': ['https://swapi.dev/api/films/5/',\n",
       "    'https://swapi.dev/api/films/6/'],\n",
       "   'species': [],\n",
       "   'vehicles': [],\n",
       "   'starships': [],\n",
       "   'created': '2014-12-20T20:18:37.619000Z',\n",
       "   'edited': '2014-12-20T21:17:50.496000Z',\n",
       "   'url': 'https://swapi.dev/api/people/82/'},\n",
       "  {'name': 'Tion Medon',\n",
       "   'height': '206',\n",
       "   'mass': '80',\n",
       "   'hair_color': 'none',\n",
       "   'skin_color': 'grey',\n",
       "   'eye_color': 'black',\n",
       "   'birth_year': 'unknown',\n",
       "   'gender': 'male',\n",
       "   'homeworld': 'https://swapi.dev/api/planets/12/',\n",
       "   'films': ['https://swapi.dev/api/films/6/'],\n",
       "   'species': ['https://swapi.dev/api/species/37/'],\n",
       "   'vehicles': [],\n",
       "   'starships': [],\n",
       "   'created': '2014-12-20T20:35:04.260000Z',\n",
       "   'edited': '2014-12-20T21:17:50.498000Z',\n",
       "   'url': 'https://swapi.dev/api/people/83/'}]}"
      ]
     },
     "execution_count": 76,
     "metadata": {},
     "output_type": "execute_result"
    }
   ],
   "source": [
    "result"
   ]
  },
  {
   "cell_type": "code",
   "execution_count": 77,
   "id": "df94e14c-e93c-4f05-a712-df5ff22a9bc4",
   "metadata": {},
   "outputs": [
    {
     "data": {
      "text/plain": [
       "dict_keys(['count', 'next', 'previous', 'results'])"
      ]
     },
     "execution_count": 77,
     "metadata": {},
     "output_type": "execute_result"
    }
   ],
   "source": [
    "result.keys()"
   ]
  },
  {
   "cell_type": "code",
   "execution_count": 79,
   "id": "c1af097a-ea85-455e-a4cf-fd8f005b2267",
   "metadata": {},
   "outputs": [],
   "source": [
    "result.get('next')"
   ]
  },
  {
   "cell_type": "code",
   "execution_count": 80,
   "id": "b8c02ba4-3392-4e96-b923-f304e36bc088",
   "metadata": {},
   "outputs": [
    {
     "data": {
      "text/plain": [
       "[{'name': 'Sly Moore',\n",
       "  'height': '178',\n",
       "  'mass': '48',\n",
       "  'hair_color': 'none',\n",
       "  'skin_color': 'pale',\n",
       "  'eye_color': 'white',\n",
       "  'birth_year': 'unknown',\n",
       "  'gender': 'female',\n",
       "  'homeworld': 'https://swapi.dev/api/planets/60/',\n",
       "  'films': ['https://swapi.dev/api/films/5/',\n",
       "   'https://swapi.dev/api/films/6/'],\n",
       "  'species': [],\n",
       "  'vehicles': [],\n",
       "  'starships': [],\n",
       "  'created': '2014-12-20T20:18:37.619000Z',\n",
       "  'edited': '2014-12-20T21:17:50.496000Z',\n",
       "  'url': 'https://swapi.dev/api/people/82/'},\n",
       " {'name': 'Tion Medon',\n",
       "  'height': '206',\n",
       "  'mass': '80',\n",
       "  'hair_color': 'none',\n",
       "  'skin_color': 'grey',\n",
       "  'eye_color': 'black',\n",
       "  'birth_year': 'unknown',\n",
       "  'gender': 'male',\n",
       "  'homeworld': 'https://swapi.dev/api/planets/12/',\n",
       "  'films': ['https://swapi.dev/api/films/6/'],\n",
       "  'species': ['https://swapi.dev/api/species/37/'],\n",
       "  'vehicles': [],\n",
       "  'starships': [],\n",
       "  'created': '2014-12-20T20:35:04.260000Z',\n",
       "  'edited': '2014-12-20T21:17:50.498000Z',\n",
       "  'url': 'https://swapi.dev/api/people/83/'}]"
      ]
     },
     "execution_count": 80,
     "metadata": {},
     "output_type": "execute_result"
    }
   ],
   "source": [
    "result.get('results')"
   ]
  },
  {
   "cell_type": "code",
   "execution_count": 4,
   "id": "e61e3bd3-c232-4fdb-b0f8-a06b1ea5de17",
   "metadata": {},
   "outputs": [
    {
     "data": {
      "text/plain": [
       "<generator object _walk at 0x7fa20c0495d0>"
      ]
     },
     "execution_count": 4,
     "metadata": {},
     "output_type": "execute_result"
    }
   ],
   "source": [
    "os.walk('./tmp/')"
   ]
  },
  {
   "cell_type": "code",
   "execution_count": 70,
   "id": "f2207090-f742-4232-b77d-2816c0b027b1",
   "metadata": {},
   "outputs": [
    {
     "name": "stdout",
     "output_type": "stream",
     "text": [
      "vehicles\n",
      "planets\n",
      "people\n",
      "starships\n",
      "species\n",
      "films\n"
     ]
    }
   ],
   "source": [
    "for rootdir, dirs, files in os.walk('./tmp/'):\n",
    "    for i in files:\n",
    "        path=f'{rootdir}/{files[0]}'\n",
    "        prefix_s3=rootdir.split('/')[-1]\n",
    "        print(prefix_s3)"
   ]
  },
  {
   "cell_type": "code",
   "execution_count": 87,
   "id": "69495150-c36d-4945-a178-a379b8f1a4ec",
   "metadata": {},
   "outputs": [
    {
     "data": {
      "text/plain": [
       "'dat_load=2023_08_21'"
      ]
     },
     "execution_count": 87,
     "metadata": {},
     "output_type": "execute_result"
    }
   ],
   "source": [
    "datetime.now().strftime('dat_load=%Y_%m_%d')"
   ]
  },
  {
   "cell_type": "code",
   "execution_count": null,
   "id": "568ed9f0-12b5-47cb-955d-1b12c88fd0a8",
   "metadata": {},
   "outputs": [],
   "source": []
  }
 ],
 "metadata": {
  "kernelspec": {
   "display_name": "Python 3 (ipykernel)",
   "language": "python",
   "name": "python3"
  },
  "language_info": {
   "codemirror_mode": {
    "name": "ipython",
    "version": 3
   },
   "file_extension": ".py",
   "mimetype": "text/x-python",
   "name": "python",
   "nbconvert_exporter": "python",
   "pygments_lexer": "ipython3",
   "version": "3.10.2"
  }
 },
 "nbformat": 4,
 "nbformat_minor": 5
}
