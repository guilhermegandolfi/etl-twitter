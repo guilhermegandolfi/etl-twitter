{
 "cells": [
  {
   "cell_type": "code",
   "execution_count": 217,
   "id": "f3ce3279-82e5-4280-a1a0-e18f76be1a27",
   "metadata": {},
   "outputs": [
    {
     "data": {
      "application/vnd.jupyter.widget-view+json": {
       "model_id": "",
       "version_major": 2,
       "version_minor": 0
      },
      "text/plain": [
       "FloatProgress(value=0.0, bar_style='info', description='Progress:', layout=Layout(height='25px', width='50%'),…"
      ]
     },
     "metadata": {},
     "output_type": "display_data"
    }
   ],
   "source": [
    "import pyspark\n",
    "from pyspark.sql import SparkSession\n",
    "from pyspark.sql.functions import json_tuple\n",
    "from pyspark.sql.functions import explode, col, explode_outer, flatten\n",
    "from pyspark.sql.functions import json_tuple\n",
    "from pyspark.sql.types import StructType, StructField, ArrayType, StringType, LongType\n",
    "import json\n",
    "\n",
    "\n",
    "spark = SparkSession.builder.appName('SparkByExamples.com').getOrCreate()"
   ]
  },
  {
   "cell_type": "markdown",
   "id": "3c412062-b989-4a59-ac7e-77b10405d5a8",
   "metadata": {},
   "source": [
    "### Read a json"
   ]
  },
  {
   "cell_type": "code",
   "execution_count": 268,
   "id": "b568f295-f314-4341-b7f7-a5adeba72c77",
   "metadata": {},
   "outputs": [
    {
     "data": {
      "application/vnd.jupyter.widget-view+json": {
       "model_id": "",
       "version_major": 2,
       "version_minor": 0
      },
      "text/plain": [
       "FloatProgress(value=0.0, bar_style='info', description='Progress:', layout=Layout(height='25px', width='50%'),…"
      ]
     },
     "metadata": {},
     "output_type": "display_data"
    }
   ],
   "source": [
    "nam_file='/home/glue_user/workspace/jupyter_workspace/data_analysis/input/films.json'\n",
    "nam_schema='/home/glue_user/workspace/jupyter_workspace/data_analysis/schema/films.json'"
   ]
  },
  {
   "cell_type": "code",
   "execution_count": 269,
   "id": "877deacf-cf29-45c9-a76f-f204f8c561d3",
   "metadata": {},
   "outputs": [
    {
     "data": {
      "application/vnd.jupyter.widget-view+json": {
       "model_id": "",
       "version_major": 2,
       "version_minor": 0
      },
      "text/plain": [
       "FloatProgress(value=0.0, bar_style='info', description='Progress:', layout=Layout(height='25px', width='50%'),…"
      ]
     },
     "metadata": {},
     "output_type": "display_data"
    }
   ],
   "source": [
    "with open(nam_schema,'r') as file:\n",
    "    data = json.load(file)\n",
    "    \n",
    "schema = StructType.fromJson(data)"
   ]
  },
  {
   "cell_type": "code",
   "execution_count": 270,
   "id": "72d28771-9c88-487e-acc2-1228e40cf1cc",
   "metadata": {},
   "outputs": [
    {
     "data": {
      "application/vnd.jupyter.widget-view+json": {
       "model_id": "",
       "version_major": 2,
       "version_minor": 0
      },
      "text/plain": [
       "FloatProgress(value=0.0, bar_style='info', description='Progress:', layout=Layout(height='25px', width='50%'),…"
      ]
     },
     "metadata": {},
     "output_type": "display_data"
    }
   ],
   "source": [
    "df = spark.read.json(nam_file,multiLine=True, schema=schema)"
   ]
  },
  {
   "cell_type": "markdown",
   "id": "434e903b-d445-4dd8-b950-f9cba023fe87",
   "metadata": {},
   "source": [
    "### Export schema in json to load file"
   ]
  },
  {
   "cell_type": "code",
   "execution_count": 271,
   "id": "563533fb-e783-4b06-955a-9379ce3a513b",
   "metadata": {},
   "outputs": [
    {
     "data": {
      "application/vnd.jupyter.widget-view+json": {
       "model_id": "",
       "version_major": 2,
       "version_minor": 0
      },
      "text/plain": [
       "FloatProgress(value=0.0, bar_style='info', description='Progress:', layout=Layout(height='25px', width='50%'),…"
      ]
     },
     "metadata": {},
     "output_type": "display_data"
    },
    {
     "name": "stdout",
     "output_type": "stream",
     "text": [
      "{\"fields\":[{\"metadata\":{},\"name\":\"count\",\"nullable\":true,\"type\":\"long\"},{\"metadata\":{},\"name\":\"next\",\"nullable\":true,\"type\":\"string\"},{\"metadata\":{},\"name\":\"previous\",\"nullable\":true,\"type\":\"string\"},{\"metadata\":{},\"name\":\"results\",\"nullable\":true,\"type\":{\"containsNull\":true,\"elementType\":{\"fields\":[{\"metadata\":{},\"name\":\"characters\",\"nullable\":true,\"type\":{\"containsNull\":true,\"elementType\":\"string\",\"type\":\"array\"}},{\"metadata\":{},\"name\":\"created\",\"nullable\":true,\"type\":\"timestamp\"},{\"metadata\":{},\"name\":\"director\",\"nullable\":true,\"type\":\"string\"},{\"metadata\":{},\"name\":\"edited\",\"nullable\":true,\"type\":\"timestamp\"},{\"metadata\":{},\"name\":\"episode_id\",\"nullable\":true,\"type\":\"long\"},{\"metadata\":{},\"name\":\"opening_crawl\",\"nullable\":true,\"type\":\"string\"},{\"metadata\":{},\"name\":\"planets\",\"nullable\":true,\"type\":{\"containsNull\":true,\"elementType\":\"string\",\"type\":\"array\"}},{\"metadata\":{},\"name\":\"producer\",\"nullable\":true,\"type\":\"string\"},{\"metadata\":{},\"name\":\"release_date\",\"nullable\":true,\"type\":\"date\"},{\"metadata\":{},\"name\":\"species\",\"nullable\":true,\"type\":{\"containsNull\":true,\"elementType\":\"string\",\"type\":\"array\"}},{\"metadata\":{},\"name\":\"starships\",\"nullable\":true,\"type\":{\"containsNull\":true,\"elementType\":\"string\",\"type\":\"array\"}},{\"metadata\":{},\"name\":\"title\",\"nullable\":true,\"type\":\"string\"},{\"metadata\":{},\"name\":\"url\",\"nullable\":true,\"type\":\"string\"},{\"metadata\":{},\"name\":\"vehicles\",\"nullable\":true,\"type\":{\"containsNull\":true,\"elementType\":\"string\",\"type\":\"array\"}}],\"type\":\"struct\"},\"type\":\"array\"}}],\"type\":\"struct\"}"
     ]
    }
   ],
   "source": [
    "print(df.schema.json())"
   ]
  },
  {
   "cell_type": "code",
   "execution_count": 195,
   "id": "9a211fe4-7a2e-4df2-907d-6ef8baca8919",
   "metadata": {},
   "outputs": [
    {
     "data": {
      "application/vnd.jupyter.widget-view+json": {
       "model_id": "",
       "version_major": 2,
       "version_minor": 0
      },
      "text/plain": [
       "FloatProgress(value=0.0, bar_style='info', description='Progress:', layout=Layout(height='25px', width='50%'),…"
      ]
     },
     "metadata": {},
     "output_type": "display_data"
    },
    {
     "name": "stdout",
     "output_type": "stream",
     "text": [
      "root\n",
      " |-- count: long (nullable = true)\n",
      " |-- next: string (nullable = true)\n",
      " |-- previous: string (nullable = true)\n",
      " |-- results: array (nullable = true)\n",
      " |    |-- element: struct (containsNull = true)\n",
      " |    |    |-- characters: array (nullable = true)\n",
      " |    |    |    |-- element: string (containsNull = true)\n",
      " |    |    |-- created: timestamp (nullable = true)\n",
      " |    |    |-- director: string (nullable = true)\n",
      " |    |    |-- edited: timestamp (nullable = true)\n",
      " |    |    |-- episode_id: long (nullable = true)\n",
      " |    |    |-- opening_crawl: string (nullable = true)\n",
      " |    |    |-- planets: array (nullable = true)\n",
      " |    |    |    |-- element: string (containsNull = true)\n",
      " |    |    |-- producer: string (nullable = true)\n",
      " |    |    |-- release_date: date (nullable = true)\n",
      " |    |    |-- species: array (nullable = true)\n",
      " |    |    |    |-- element: string (containsNull = true)\n",
      " |    |    |-- starships: array (nullable = true)\n",
      " |    |    |    |-- element: string (containsNull = true)\n",
      " |    |    |-- title: string (nullable = true)\n",
      " |    |    |-- url: string (nullable = true)\n",
      " |    |    |-- vehicles: array (nullable = true)\n",
      " |    |    |    |-- element: string (containsNull = true)"
     ]
    }
   ],
   "source": [
    "df.printSchema()"
   ]
  },
  {
   "cell_type": "markdown",
   "id": "43c5df7b-c9d1-422f-8bae-6c06905f0e9f",
   "metadata": {},
   "source": [
    "### Explode a json column"
   ]
  },
  {
   "cell_type": "code",
   "execution_count": 282,
   "id": "754b843e-93c2-4078-a42b-d5fed74a1fc2",
   "metadata": {},
   "outputs": [
    {
     "data": {
      "application/vnd.jupyter.widget-view+json": {
       "model_id": "",
       "version_major": 2,
       "version_minor": 0
      },
      "text/plain": [
       "FloatProgress(value=0.0, bar_style='info', description='Progress:', layout=Layout(height='25px', width='50%'),…"
      ]
     },
     "metadata": {},
     "output_type": "display_data"
    }
   ],
   "source": [
    "df_explode = df.select(explode(col('results')).alias('results'))"
   ]
  },
  {
   "cell_type": "markdown",
   "id": "0bfe3bb4-1fd2-4be3-9660-7125545eceae",
   "metadata": {},
   "source": [
    "### Include in colunar dataframe to write in s3"
   ]
  },
  {
   "cell_type": "code",
   "execution_count": 283,
   "id": "11b58245-56fc-44f1-bb72-61d29912e023",
   "metadata": {},
   "outputs": [
    {
     "data": {
      "application/vnd.jupyter.widget-view+json": {
       "model_id": "",
       "version_major": 2,
       "version_minor": 0
      },
      "text/plain": [
       "FloatProgress(value=0.0, bar_style='info', description='Progress:', layout=Layout(height='25px', width='50%'),…"
      ]
     },
     "metadata": {},
     "output_type": "display_data"
    }
   ],
   "source": [
    "df_exploded = df_explode.select(\"results.*\")"
   ]
  },
  {
   "cell_type": "code",
   "execution_count": 284,
   "id": "1e7da084-a158-4415-9335-e21478568dd4",
   "metadata": {},
   "outputs": [
    {
     "data": {
      "application/vnd.jupyter.widget-view+json": {
       "model_id": "",
       "version_major": 2,
       "version_minor": 0
      },
      "text/plain": [
       "FloatProgress(value=0.0, bar_style='info', description='Progress:', layout=Layout(height='25px', width='50%'),…"
      ]
     },
     "metadata": {},
     "output_type": "display_data"
    },
    {
     "name": "stdout",
     "output_type": "stream",
     "text": [
      "root\n",
      " |-- characters: array (nullable = true)\n",
      " |    |-- element: string (containsNull = true)\n",
      " |-- created: timestamp (nullable = true)\n",
      " |-- director: string (nullable = true)\n",
      " |-- edited: timestamp (nullable = true)\n",
      " |-- episode_id: long (nullable = true)\n",
      " |-- opening_crawl: string (nullable = true)\n",
      " |-- planets: array (nullable = true)\n",
      " |    |-- element: string (containsNull = true)\n",
      " |-- producer: string (nullable = true)\n",
      " |-- release_date: date (nullable = true)\n",
      " |-- species: array (nullable = true)\n",
      " |    |-- element: string (containsNull = true)\n",
      " |-- starships: array (nullable = true)\n",
      " |    |-- element: string (containsNull = true)\n",
      " |-- title: string (nullable = true)\n",
      " |-- url: string (nullable = true)\n",
      " |-- vehicles: array (nullable = true)\n",
      " |    |-- element: string (containsNull = true)"
     ]
    }
   ],
   "source": [
    "df_exploded.printSchema()"
   ]
  },
  {
   "cell_type": "code",
   "execution_count": 285,
   "id": "cc9db953-6dae-4b27-8338-ee836bb12649",
   "metadata": {},
   "outputs": [
    {
     "data": {
      "application/vnd.jupyter.widget-view+json": {
       "model_id": "",
       "version_major": 2,
       "version_minor": 0
      },
      "text/plain": [
       "FloatProgress(value=0.0, bar_style='info', description='Progress:', layout=Layout(height='25px', width='50%'),…"
      ]
     },
     "metadata": {},
     "output_type": "display_data"
    },
    {
     "name": "stdout",
     "output_type": "stream",
     "text": [
      "+-----------------------+\n",
      "|created                |\n",
      "+-----------------------+\n",
      "|2014-12-10 14:23:31.88 |\n",
      "|2014-12-12 11:26:24.656|\n",
      "|2014-12-18 10:39:33.255|\n",
      "|2014-12-19 16:52:55.74 |\n",
      "|2014-12-20 10:57:57.886|\n",
      "|2014-12-20 18:49:38.403|\n",
      "+-----------------------+"
     ]
    }
   ],
   "source": [
    "df_exploded.select('created').show(10,truncate=False)"
   ]
  },
  {
   "cell_type": "markdown",
   "id": "f1c2095c-3bf3-498a-96c5-402047bf8afc",
   "metadata": {},
   "source": [
    "### Explode other column for example"
   ]
  },
  {
   "cell_type": "code",
   "execution_count": 290,
   "id": "c23a1a97-1c09-488c-a1f1-417fb2d2aa77",
   "metadata": {},
   "outputs": [
    {
     "data": {
      "application/vnd.jupyter.widget-view+json": {
       "model_id": "",
       "version_major": 2,
       "version_minor": 0
      },
      "text/plain": [
       "FloatProgress(value=0.0, bar_style='info', description='Progress:', layout=Layout(height='25px', width='50%'),…"
      ]
     },
     "metadata": {},
     "output_type": "display_data"
    }
   ],
   "source": [
    "df_planets = df_exploded.select(explode(col('planets')).alias('planets')).dropDuplicates([\"planets\"])"
   ]
  },
  {
   "cell_type": "code",
   "execution_count": 291,
   "id": "6c5d0bae-8b26-46ba-94d9-83a96984c516",
   "metadata": {},
   "outputs": [
    {
     "data": {
      "application/vnd.jupyter.widget-view+json": {
       "model_id": "",
       "version_major": 2,
       "version_minor": 0
      },
      "text/plain": [
       "FloatProgress(value=0.0, bar_style='info', description='Progress:', layout=Layout(height='25px', width='50%'),…"
      ]
     },
     "metadata": {},
     "output_type": "display_data"
    },
    {
     "name": "stdout",
     "output_type": "stream",
     "text": [
      "root\n",
      " |-- planets: string (nullable = true)"
     ]
    }
   ],
   "source": [
    "df_planets.printSchema()"
   ]
  },
  {
   "cell_type": "code",
   "execution_count": 293,
   "id": "b7f5cb37-7c6a-4b03-800a-a89f6e840022",
   "metadata": {},
   "outputs": [
    {
     "data": {
      "application/vnd.jupyter.widget-view+json": {
       "model_id": "",
       "version_major": 2,
       "version_minor": 0
      },
      "text/plain": [
       "FloatProgress(value=0.0, bar_style='info', description='Progress:', layout=Layout(height='25px', width='50%'),…"
      ]
     },
     "metadata": {},
     "output_type": "display_data"
    },
    {
     "name": "stdout",
     "output_type": "stream",
     "text": [
      "+---------------------------------+\n",
      "|planets                          |\n",
      "+---------------------------------+\n",
      "|https://swapi.dev/api/planets/5/ |\n",
      "|https://swapi.dev/api/planets/2/ |\n",
      "|https://swapi.dev/api/planets/3/ |\n",
      "|https://swapi.dev/api/planets/10/|\n",
      "|https://swapi.dev/api/planets/1/ |\n",
      "|https://swapi.dev/api/planets/13/|\n",
      "|https://swapi.dev/api/planets/15/|\n",
      "|https://swapi.dev/api/planets/4/ |\n",
      "|https://swapi.dev/api/planets/8/ |\n",
      "|https://swapi.dev/api/planets/14/|\n",
      "|https://swapi.dev/api/planets/6/ |\n",
      "|https://swapi.dev/api/planets/12/|\n",
      "|https://swapi.dev/api/planets/11/|\n",
      "|https://swapi.dev/api/planets/16/|\n",
      "|https://swapi.dev/api/planets/7/ |\n",
      "|https://swapi.dev/api/planets/27/|\n",
      "|https://swapi.dev/api/planets/19/|\n",
      "|https://swapi.dev/api/planets/17/|\n",
      "|https://swapi.dev/api/planets/9/ |\n",
      "|https://swapi.dev/api/planets/18/|\n",
      "+---------------------------------+"
     ]
    }
   ],
   "source": [
    "df_planets.show(100, truncate=False)"
   ]
  },
  {
   "cell_type": "code",
   "execution_count": 294,
   "id": "3fea62ac-1a1e-4387-9918-be0aa93966bf",
   "metadata": {},
   "outputs": [
    {
     "data": {
      "application/vnd.jupyter.widget-view+json": {
       "model_id": "",
       "version_major": 2,
       "version_minor": 0
      },
      "text/plain": [
       "FloatProgress(value=0.0, bar_style='info', description='Progress:', layout=Layout(height='25px', width='50%'),…"
      ]
     },
     "metadata": {},
     "output_type": "display_data"
    },
    {
     "name": "stdout",
     "output_type": "stream",
     "text": [
      "20"
     ]
    }
   ],
   "source": [
    "df_planets.count()"
   ]
  },
  {
   "cell_type": "code",
   "execution_count": null,
   "id": "415770f4-7950-4f09-91c9-07bf0eee59a1",
   "metadata": {},
   "outputs": [],
   "source": []
  }
 ],
 "metadata": {
  "kernelspec": {
   "display_name": "PySpark",
   "language": "python",
   "name": "pysparkkernel"
  },
  "language_info": {
   "codemirror_mode": {
    "name": "python",
    "version": 3
   },
   "file_extension": ".py",
   "mimetype": "text/x-python",
   "name": "pyspark",
   "pygments_lexer": "python3"
  }
 },
 "nbformat": 4,
 "nbformat_minor": 5
}
