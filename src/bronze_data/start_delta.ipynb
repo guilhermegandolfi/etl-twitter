{
 "cells": [
  {
   "cell_type": "code",
   "execution_count": 1,
   "id": "fd36ac36-88b5-42a9-b58a-2ee26d65c280",
   "metadata": {},
   "outputs": [
    {
     "data": {
      "text/html": [
       "Current session configs: <tt>{'conf': {'spark.jars.packages': 'io.delta:delta-core_2.12:1.0.0', 'spark.sql.extensions': 'io.delta.sql.DeltaSparkSessionExtension', 'spark.sql.catalog.spark_catalog': 'org.apache.spark.sql.delta.catalog.DeltaCatalog'}, 'kind': 'pyspark'}</tt><br>"
      ],
      "text/plain": [
       "<IPython.core.display.HTML object>"
      ]
     },
     "metadata": {},
     "output_type": "display_data"
    },
    {
     "data": {
      "text/html": [
       "<table>\n",
       "<tr><th>ID</th><th>YARN Application ID</th><th>Kind</th><th>State</th><th>Spark UI</th><th>Driver log</th><th>User</th><th>Current session?</th></tr><tr><td>1</td><td>None</td><td>pyspark</td><td>starting</td><td></td><td></td><td>None</td><td></td></tr></table>"
      ],
      "text/plain": [
       "<IPython.core.display.HTML object>"
      ]
     },
     "metadata": {},
     "output_type": "display_data"
    }
   ],
   "source": [
    "%%configure -f\n",
    "{\n",
    "    \"conf\": {\n",
    "        \"spark.jars.packages\": \"io.delta:delta-core_2.12:1.0.0\",\n",
    "        \"spark.sql.extensions\":\"io.delta.sql.DeltaSparkSessionExtension\",\n",
    "        \"spark.sql.catalog.spark_catalog\":\"org.apache.spark.sql.delta.catalog.DeltaCatalog\"\n",
    "    }\n",
    "}"
   ]
  },
  {
   "cell_type": "code",
   "execution_count": 3,
   "id": "dc9439c0-2ca6-4f3a-9a2f-1cc7c4e42316",
   "metadata": {},
   "outputs": [
    {
     "name": "stderr",
     "output_type": "stream",
     "text": [
      "The code failed because of a fatal error. Some things to try: a) Make sure Spark has enough available resources for Jupyter to create a Spark context. b) Contact your Jupyter administrator to make sure the Spark magics library is configured correctly.   c) Restart the kernel.\n"
     ]
    }
   ],
   "source": [
    "from pyspark.sql import SparkSession\n",
    "from pyspark.sql.functions import *  \n",
    "\n",
    "spark = SparkSession.builder.appName(\"Lakehouse\") \\\n",
    "    .config(\"spark.jars.packages\", \"io.delta:delta-core_2.12:1.0.0\") \\\n",
    "    .config(\"spark.sql.extensions\", \"io.delta.sql.DeltaSparkSessionExtension\") \\\n",
    "    .config(\"spark.sql.catalog.spark_catalog\", \"org.apache.spark.sql.delta.catalog.DeltaCatalog\") \\\n",
    "    .config(\"spark.databricks.delta.schema.autoMerge.enabled\",\"true\") \\\n",
    "    .config(\"spark.databricks.delta.autoOptimize.optimizeWrite\",\"true\") \\\n",
    "    .config(\"spark.databricks.delta.optimizeWrite.enabled\",\"true\") \\\n",
    "    .config(\"spark.databricks.delta.vacuum.parallelDelete.enabled\",\"true\") \\\n",
    "    .getOrCreate()\n",
    "\n",
    "from delta.tables import *\n",
    "from pyspark.sql.functions import *"
   ]
  },
  {
   "cell_type": "markdown",
   "id": "74a2dbf4-e91d-47b6-a8b7-111286bf0ca0",
   "metadata": {},
   "source": [
    "### Read data from S3"
   ]
  },
  {
   "cell_type": "code",
   "execution_count": 4,
   "id": "5b1ed4c2-93a4-4085-9c80-9b77771a99ec",
   "metadata": {},
   "outputs": [
    {
     "name": "stderr",
     "output_type": "stream",
     "text": [
      "The code failed because of a fatal error. Some things to try: a) Make sure Spark has enough available resources for Jupyter to create a Spark context. b) Contact your Jupyter administrator to make sure the Spark magics library is configured correctly.   c) Restart the kernel.\n"
     ]
    }
   ],
   "source": [
    "bucket='s3://star-wars-etl-dev'\n",
    "prefix='raw_data'\n",
    "table='people'"
   ]
  },
  {
   "cell_type": "code",
   "execution_count": 5,
   "id": "c54c2990-8545-4502-bce6-86ceedfadd46",
   "metadata": {},
   "outputs": [
    {
     "name": "stderr",
     "output_type": "stream",
     "text": [
      "The code failed because of a fatal error. Some things to try: a) Make sure Spark has enough available resources for Jupyter to create a Spark context. b) Contact your Jupyter administrator to make sure the Spark magics library is configured correctly.   c) Restart the kernel.\n"
     ]
    }
   ],
   "source": [
    "df=spark.read.option(\"multiline\",\"true\").json(f\"{bucket}/{prefix}/{table}\")"
   ]
  },
  {
   "cell_type": "code",
   "execution_count": 6,
   "id": "c52fa1d0-8c88-47d8-b836-ab3a79135d54",
   "metadata": {},
   "outputs": [
    {
     "name": "stderr",
     "output_type": "stream",
     "text": [
      "The code failed because of a fatal error. Some things to try: a) Make sure Spark has enough available resources for Jupyter to create a Spark context. b) Contact your Jupyter administrator to make sure the Spark magics library is configured correctly.   c) Restart the kernel.\n"
     ]
    }
   ],
   "source": [
    "df.printSchema()"
   ]
  },
  {
   "cell_type": "code",
   "execution_count": 79,
   "id": "28abebff-e856-4a6c-956c-4f70bd30e023",
   "metadata": {},
   "outputs": [
    {
     "data": {
      "application/vnd.jupyter.widget-view+json": {
       "model_id": "",
       "version_major": 2,
       "version_minor": 0
      },
      "text/plain": [
       "FloatProgress(value=0.0, bar_style='info', description='Progress:', layout=Layout(height='25px', width='50%'),…"
      ]
     },
     "metadata": {},
     "output_type": "display_data"
    },
    {
     "name": "stdout",
     "output_type": "stream",
     "text": [
      "+-----+--------------------+--------+----------+\n",
      "|count|                next|previous|  dat_load|\n",
      "+-----+--------------------+--------+----------+\n",
      "|   82|https://swapi.dev...|    null|2023_09_20|\n",
      "+-----+--------------------+--------+----------+"
     ]
    }
   ],
   "source": [
    "df.select('count','next','previous','dat_load').show(10)"
   ]
  },
  {
   "cell_type": "code",
   "execution_count": 60,
   "id": "3d8acd06-eca6-4e5f-82f6-87e16c2d0b15",
   "metadata": {},
   "outputs": [
    {
     "data": {
      "application/vnd.jupyter.widget-view+json": {
       "model_id": "",
       "version_major": 2,
       "version_minor": 0
      },
      "text/plain": [
       "FloatProgress(value=0.0, bar_style='info', description='Progress:', layout=Layout(height='25px', width='50%'),…"
      ]
     },
     "metadata": {},
     "output_type": "display_data"
    }
   ],
   "source": [
    "parsed_df = df.select(df['results'])"
   ]
  },
  {
   "cell_type": "code",
   "execution_count": 62,
   "id": "025786ac-6e99-49b9-93fb-029d27ef01bf",
   "metadata": {},
   "outputs": [
    {
     "data": {
      "application/vnd.jupyter.widget-view+json": {
       "model_id": "",
       "version_major": 2,
       "version_minor": 0
      },
      "text/plain": [
       "FloatProgress(value=0.0, bar_style='info', description='Progress:', layout=Layout(height='25px', width='50%'),…"
      ]
     },
     "metadata": {},
     "output_type": "display_data"
    }
   ],
   "source": [
    "df_exploded = df.select(explode(\"results\").alias(\"resultado\"))"
   ]
  },
  {
   "cell_type": "code",
   "execution_count": 63,
   "id": "1398b879-6207-4001-844d-b48f575486b3",
   "metadata": {},
   "outputs": [
    {
     "data": {
      "application/vnd.jupyter.widget-view+json": {
       "model_id": "",
       "version_major": 2,
       "version_minor": 0
      },
      "text/plain": [
       "FloatProgress(value=0.0, bar_style='info', description='Progress:', layout=Layout(height='25px', width='50%'),…"
      ]
     },
     "metadata": {},
     "output_type": "display_data"
    },
    {
     "name": "stdout",
     "output_type": "stream",
     "text": [
      "root\n",
      " |-- resultado: struct (nullable = true)\n",
      " |    |-- characters: array (nullable = true)\n",
      " |    |    |-- element: string (containsNull = true)\n",
      " |    |-- created: string (nullable = true)\n",
      " |    |-- director: string (nullable = true)\n",
      " |    |-- edited: string (nullable = true)\n",
      " |    |-- episode_id: long (nullable = true)\n",
      " |    |-- opening_crawl: string (nullable = true)\n",
      " |    |-- planets: array (nullable = true)\n",
      " |    |    |-- element: string (containsNull = true)\n",
      " |    |-- producer: string (nullable = true)\n",
      " |    |-- release_date: string (nullable = true)\n",
      " |    |-- species: array (nullable = true)\n",
      " |    |    |-- element: string (containsNull = true)\n",
      " |    |-- starships: array (nullable = true)\n",
      " |    |    |-- element: string (containsNull = true)\n",
      " |    |-- title: string (nullable = true)\n",
      " |    |-- url: string (nullable = true)\n",
      " |    |-- vehicles: array (nullable = true)\n",
      " |    |    |-- element: string (containsNull = true)"
     ]
    }
   ],
   "source": [
    "df_exploded.printSchema()"
   ]
  },
  {
   "cell_type": "code",
   "execution_count": 70,
   "id": "3dc995ed-be4e-4e2b-badc-670231855b96",
   "metadata": {},
   "outputs": [
    {
     "data": {
      "application/vnd.jupyter.widget-view+json": {
       "model_id": "",
       "version_major": 2,
       "version_minor": 0
      },
      "text/plain": [
       "FloatProgress(value=0.0, bar_style='info', description='Progress:', layout=Layout(height='25px', width='50%'),…"
      ]
     },
     "metadata": {},
     "output_type": "display_data"
    },
    {
     "name": "stdout",
     "output_type": "stream",
     "text": [
      "6"
     ]
    }
   ],
   "source": [
    "df_exploded.count()"
   ]
  },
  {
   "cell_type": "code",
   "execution_count": 69,
   "id": "31f1740f-2468-4f36-b350-c7aaf6de7809",
   "metadata": {},
   "outputs": [
    {
     "data": {
      "application/vnd.jupyter.widget-view+json": {
       "model_id": "",
       "version_major": 2,
       "version_minor": 0
      },
      "text/plain": [
       "FloatProgress(value=0.0, bar_style='info', description='Progress:', layout=Layout(height='25px', width='50%'),…"
      ]
     },
     "metadata": {},
     "output_type": "display_data"
    },
    {
     "name": "stdout",
     "output_type": "stream",
     "text": [
      "+------------------------------------------------------------------------------------------------------------------------------------------------------------------------------------------------------------------------------------------------------------------------------------------------------------------------------------------------------------------------------------------------------------------------------------------------------------------------------------+\n",
      "|resultado                                                                                                                                                                                                                                                                                                                                                                                                                                                                           |\n",
      "+------------------------------------------------------------------------------------------------------------------------------------------------------------------------------------------------------------------------------------------------------------------------------------------------------------------------------------------------------------------------------------------------------------------------------------------------------------------------------------+\n",
      "|[https://swapi.dev/api/vehicles/4/, https://swapi.dev/api/vehicles/6/, https://swapi.dev/api/vehicles/7/, https://swapi.dev/api/vehicles/8/]                                                                                                                                                                                                                                                                                                                                        |\n",
      "|[https://swapi.dev/api/vehicles/8/, https://swapi.dev/api/vehicles/14/, https://swapi.dev/api/vehicles/16/, https://swapi.dev/api/vehicles/18/, https://swapi.dev/api/vehicles/19/, https://swapi.dev/api/vehicles/20/]                                                                                                                                                                                                                                                             |\n",
      "|[https://swapi.dev/api/vehicles/8/, https://swapi.dev/api/vehicles/16/, https://swapi.dev/api/vehicles/18/, https://swapi.dev/api/vehicles/19/, https://swapi.dev/api/vehicles/24/, https://swapi.dev/api/vehicles/25/, https://swapi.dev/api/vehicles/26/, https://swapi.dev/api/vehicles/30/]                                                                                                                                                                                     |\n",
      "|[https://swapi.dev/api/vehicles/33/, https://swapi.dev/api/vehicles/34/, https://swapi.dev/api/vehicles/35/, https://swapi.dev/api/vehicles/36/, https://swapi.dev/api/vehicles/37/, https://swapi.dev/api/vehicles/38/, https://swapi.dev/api/vehicles/42/]                                                                                                                                                                                                                        |\n",
      "|[https://swapi.dev/api/vehicles/4/, https://swapi.dev/api/vehicles/44/, https://swapi.dev/api/vehicles/45/, https://swapi.dev/api/vehicles/46/, https://swapi.dev/api/vehicles/50/, https://swapi.dev/api/vehicles/51/, https://swapi.dev/api/vehicles/53/, https://swapi.dev/api/vehicles/54/, https://swapi.dev/api/vehicles/55/, https://swapi.dev/api/vehicles/56/, https://swapi.dev/api/vehicles/57/]                                                                         |\n",
      "|[https://swapi.dev/api/vehicles/33/, https://swapi.dev/api/vehicles/50/, https://swapi.dev/api/vehicles/53/, https://swapi.dev/api/vehicles/56/, https://swapi.dev/api/vehicles/60/, https://swapi.dev/api/vehicles/62/, https://swapi.dev/api/vehicles/67/, https://swapi.dev/api/vehicles/69/, https://swapi.dev/api/vehicles/70/, https://swapi.dev/api/vehicles/71/, https://swapi.dev/api/vehicles/72/, https://swapi.dev/api/vehicles/73/, https://swapi.dev/api/vehicles/76/]|\n",
      "+------------------------------------------------------------------------------------------------------------------------------------------------------------------------------------------------------------------------------------------------------------------------------------------------------------------------------------------------------------------------------------------------------------------------------------------------------------------------------------+"
     ]
    }
   ],
   "source": [
    "df_exploded.withColumn(\"resultado\", col(\"resultado.vehicles\")).show(100, truncate=False)"
   ]
  },
  {
   "cell_type": "code",
   "execution_count": 65,
   "id": "04c1dd68-3732-4978-a61a-5df891060d60",
   "metadata": {},
   "outputs": [
    {
     "data": {
      "application/vnd.jupyter.widget-view+json": {
       "model_id": "",
       "version_major": 2,
       "version_minor": 0
      },
      "text/plain": [
       "FloatProgress(value=0.0, bar_style='info', description='Progress:', layout=Layout(height='25px', width='50%'),…"
      ]
     },
     "metadata": {},
     "output_type": "display_data"
    }
   ],
   "source": [
    "from pyspark.sql import functions as F\n",
    "from pyspark.sql import types as T\n",
    "\n",
    "data = [[1, \"[{color: 'red', group: 'A'},{color: 'green', group: 'B'}]\"],\n",
    "        [2, \"[{color: 'red', group: 'A'}]\"]]\n",
    "\n",
    "df = spark.createDataFrame(data, schema = [\"customer_id\", \"model\"]) \\\n",
    "    .withColumn(\"model\", F.from_json(\"model\", T.ArrayType(T.MapType(T.StringType(), T.StringType())), {\"allowUnquotedFieldNames\": True})) \\\n",
    "    .withColumn(\"model\", F.explode(\"model\")) \\\n",
    "    .withColumn(\"color\", F.col(\"model\")[\"color\"]) \\\n",
    "    .withColumn(\"group\", F.col(\"model\")[\"group\"]) \\\n",
    "    .drop(\"model\")"
   ]
  },
  {
   "cell_type": "code",
   "execution_count": 66,
   "id": "67d3390f-a078-4aff-bb6a-3107bcc3f2d2",
   "metadata": {},
   "outputs": [
    {
     "data": {
      "application/vnd.jupyter.widget-view+json": {
       "model_id": "",
       "version_major": 2,
       "version_minor": 0
      },
      "text/plain": [
       "FloatProgress(value=0.0, bar_style='info', description='Progress:', layout=Layout(height='25px', width='50%'),…"
      ]
     },
     "metadata": {},
     "output_type": "display_data"
    },
    {
     "name": "stdout",
     "output_type": "stream",
     "text": [
      "+-----------+-----+-----+\n",
      "|customer_id|color|group|\n",
      "+-----------+-----+-----+\n",
      "|          1|  red|    A|\n",
      "|          1|green|    B|\n",
      "|          2|  red|    A|\n",
      "+-----------+-----+-----+"
     ]
    }
   ],
   "source": [
    "df.show(10)"
   ]
  },
  {
   "cell_type": "code",
   "execution_count": null,
   "id": "584015fb-e10b-42fe-a771-65b7604e377b",
   "metadata": {},
   "outputs": [],
   "source": []
  }
 ],
 "metadata": {
  "kernelspec": {
   "display_name": "PySpark",
   "language": "python",
   "name": "pysparkkernel"
  },
  "language_info": {
   "codemirror_mode": {
    "name": "python",
    "version": 3
   },
   "file_extension": ".py",
   "mimetype": "text/x-python",
   "name": "pyspark",
   "pygments_lexer": "python3"
  }
 },
 "nbformat": 4,
 "nbformat_minor": 5
}
