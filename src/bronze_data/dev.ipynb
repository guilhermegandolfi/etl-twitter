{
 "cells": [
  {
   "cell_type": "code",
   "execution_count": 1,
   "id": "6ef196d2-c412-477b-b362-71ea00d75118",
   "metadata": {},
   "outputs": [
    {
     "data": {
      "text/html": [
       "Current session configs: <tt>{'conf': {'spark.jars.packages': 'io.delta:delta-core_2.12:1.0.0', 'spark.sql.extensions': 'io.delta.sql.DeltaSparkSessionExtension', 'spark.sql.catalog.spark_catalog': 'org.apache.spark.sql.delta.catalog.DeltaCatalog'}, 'kind': 'pyspark'}</tt><br>"
      ],
      "text/plain": [
       "<IPython.core.display.HTML object>"
      ]
     },
     "metadata": {},
     "output_type": "display_data"
    },
    {
     "data": {
      "text/html": [
       "No active sessions."
      ],
      "text/plain": [
       "<IPython.core.display.HTML object>"
      ]
     },
     "metadata": {},
     "output_type": "display_data"
    }
   ],
   "source": [
    "%%configure -f\n",
    "{\n",
    "    \"conf\": {\n",
    "        \"spark.jars.packages\": \"io.delta:delta-core_2.12:1.0.0\",\n",
    "        \"spark.sql.extensions\":\"io.delta.sql.DeltaSparkSessionExtension\",\n",
    "        \"spark.sql.catalog.spark_catalog\":\"org.apache.spark.sql.delta.catalog.DeltaCatalog\"\n",
    "    }\n",
    "}"
   ]
  },
  {
   "cell_type": "code",
   "execution_count": 2,
   "id": "71d35f57-2957-4fc8-9260-75f03bd90980",
   "metadata": {},
   "outputs": [
    {
     "name": "stdout",
     "output_type": "stream",
     "text": [
      "Starting Spark application\n"
     ]
    },
    {
     "data": {
      "text/html": [
       "<table>\n",
       "<tr><th>ID</th><th>YARN Application ID</th><th>Kind</th><th>State</th><th>Spark UI</th><th>Driver log</th><th>User</th><th>Current session?</th></tr><tr><td>0</td><td>None</td><td>pyspark</td><td>idle</td><td></td><td></td><td>None</td><td>✔</td></tr></table>"
      ],
      "text/plain": [
       "<IPython.core.display.HTML object>"
      ]
     },
     "metadata": {},
     "output_type": "display_data"
    },
    {
     "data": {
      "application/vnd.jupyter.widget-view+json": {
       "model_id": "",
       "version_major": 2,
       "version_minor": 0
      },
      "text/plain": [
       "FloatProgress(value=0.0, bar_style='info', description='Progress:', layout=Layout(height='25px', width='50%'),…"
      ]
     },
     "metadata": {},
     "output_type": "display_data"
    },
    {
     "name": "stdout",
     "output_type": "stream",
     "text": [
      "SparkSession available as 'spark'.\n"
     ]
    },
    {
     "data": {
      "application/vnd.jupyter.widget-view+json": {
       "model_id": "",
       "version_major": 2,
       "version_minor": 0
      },
      "text/plain": [
       "FloatProgress(value=0.0, bar_style='info', description='Progress:', layout=Layout(height='25px', width='50%'),…"
      ]
     },
     "metadata": {},
     "output_type": "display_data"
    }
   ],
   "source": [
    "from pyspark.sql import SparkSession\n",
    "from pyspark.sql.functions import *  \n",
    "\n",
    "spark = SparkSession.builder.appName(\"Lakehouse\") \\\n",
    "    .config(\"spark.jars.packages\", \"io.delta:delta-core_2.12:1.0.0\") \\\n",
    "    .config(\"spark.sql.extensions\", \"io.delta.sql.DeltaSparkSessionExtension\") \\\n",
    "    .config(\"spark.sql.catalog.spark_catalog\", \"org.apache.spark.sql.delta.catalog.DeltaCatalog\") \\\n",
    "    .config(\"spark.databricks.delta.schema.autoMerge.enabled\",\"true\") \\\n",
    "    .config(\"spark.databricks.delta.autoOptimize.optimizeWrite\",\"true\") \\\n",
    "    .config(\"spark.databricks.delta.optimizeWrite.enabled\",\"true\") \\\n",
    "    .config(\"spark.databricks.delta.vacuum.parallelDelete.enabled\",\"true\") \\\n",
    "    .getOrCreate()\n",
    "\n",
    "from delta.tables import *\n",
    "from pyspark.sql.functions import *"
   ]
  },
  {
   "cell_type": "markdown",
   "id": "3d1c8e62-fffa-48ed-90a0-1ebc84b0d01d",
   "metadata": {},
   "source": [
    "### Get the schema from file to load table"
   ]
  },
  {
   "cell_type": "code",
   "execution_count": 49,
   "id": "8c295162-8c10-4fd9-8d2c-51f714db2890",
   "metadata": {},
   "outputs": [
    {
     "data": {
      "application/vnd.jupyter.widget-view+json": {
       "model_id": "",
       "version_major": 2,
       "version_minor": 0
      },
      "text/plain": [
       "FloatProgress(value=0.0, bar_style='info', description='Progress:', layout=Layout(height='25px', width='50%'),…"
      ]
     },
     "metadata": {},
     "output_type": "display_data"
    }
   ],
   "source": [
    "bucket='s3://star-wars-etl-dev'\n",
    "prefix='raw_data'\n",
    "table = ['films', 'planets', 'species', 'starships', 'vehicles', 'people']"
   ]
  },
  {
   "cell_type": "code",
   "execution_count": 50,
   "id": "37e38eeb-a14d-4e67-acc3-87011b9d2fd0",
   "metadata": {},
   "outputs": [
    {
     "data": {
      "application/vnd.jupyter.widget-view+json": {
       "model_id": "",
       "version_major": 2,
       "version_minor": 0
      },
      "text/plain": [
       "FloatProgress(value=0.0, bar_style='info', description='Progress:', layout=Layout(height='25px', width='50%'),…"
      ]
     },
     "metadata": {},
     "output_type": "display_data"
    },
    {
     "name": "stdout",
     "output_type": "stream",
     "text": [
      "+--------------+\n",
      "|current_date()|\n",
      "+--------------+\n",
      "|    2023-11-11|\n",
      "+--------------+"
     ]
    }
   ],
   "source": [
    "spark.sql('select current_date()').show(10)"
   ]
  },
  {
   "cell_type": "code",
   "execution_count": 21,
   "id": "1dae5edc-554c-4bcb-9f25-3c2f523d84ad",
   "metadata": {},
   "outputs": [
    {
     "data": {
      "application/vnd.jupyter.widget-view+json": {
       "model_id": "",
       "version_major": 2,
       "version_minor": 0
      },
      "text/plain": [
       "FloatProgress(value=0.0, bar_style='info', description='Progress:', layout=Layout(height='25px', width='50%'),…"
      ]
     },
     "metadata": {},
     "output_type": "display_data"
    },
    {
     "name": "stdout",
     "output_type": "stream",
     "text": [
      "table films\n",
      " {\"fields\":[{\"metadata\":{},\"name\":\"count\",\"nullable\":true,\"type\":\"long\"},{\"metadata\":{},\"name\":\"next\",\"nullable\":true,\"type\":\"string\"},{\"metadata\":{},\"name\":\"previous\",\"nullable\":true,\"type\":\"string\"},{\"metadata\":{},\"name\":\"results\",\"nullable\":true,\"type\":{\"containsNull\":true,\"elementType\":{\"fields\":[{\"metadata\":{},\"name\":\"characters\",\"nullable\":true,\"type\":{\"containsNull\":true,\"elementType\":\"string\",\"type\":\"array\"}},{\"metadata\":{},\"name\":\"created\",\"nullable\":true,\"type\":\"string\"},{\"metadata\":{},\"name\":\"director\",\"nullable\":true,\"type\":\"string\"},{\"metadata\":{},\"name\":\"edited\",\"nullable\":true,\"type\":\"string\"},{\"metadata\":{},\"name\":\"episode_id\",\"nullable\":true,\"type\":\"long\"},{\"metadata\":{},\"name\":\"opening_crawl\",\"nullable\":true,\"type\":\"string\"},{\"metadata\":{},\"name\":\"planets\",\"nullable\":true,\"type\":{\"containsNull\":true,\"elementType\":\"string\",\"type\":\"array\"}},{\"metadata\":{},\"name\":\"producer\",\"nullable\":true,\"type\":\"string\"},{\"metadata\":{},\"name\":\"release_date\",\"nullable\":true,\"type\":\"string\"},{\"metadata\":{},\"name\":\"species\",\"nullable\":true,\"type\":{\"containsNull\":true,\"elementType\":\"string\",\"type\":\"array\"}},{\"metadata\":{},\"name\":\"starships\",\"nullable\":true,\"type\":{\"containsNull\":true,\"elementType\":\"string\",\"type\":\"array\"}},{\"metadata\":{},\"name\":\"title\",\"nullable\":true,\"type\":\"string\"},{\"metadata\":{},\"name\":\"url\",\"nullable\":true,\"type\":\"string\"},{\"metadata\":{},\"name\":\"vehicles\",\"nullable\":true,\"type\":{\"containsNull\":true,\"elementType\":\"string\",\"type\":\"array\"}}],\"type\":\"struct\"},\"type\":\"array\"}},{\"metadata\":{},\"name\":\"dat_load\",\"nullable\":true,\"type\":\"string\"}],\"type\":\"struct\"}\n",
      "table planets\n",
      " {\"fields\":[{\"metadata\":{},\"name\":\"count\",\"nullable\":true,\"type\":\"long\"},{\"metadata\":{},\"name\":\"next\",\"nullable\":true,\"type\":\"string\"},{\"metadata\":{},\"name\":\"previous\",\"nullable\":true,\"type\":\"string\"},{\"metadata\":{},\"name\":\"results\",\"nullable\":true,\"type\":{\"containsNull\":true,\"elementType\":{\"fields\":[{\"metadata\":{},\"name\":\"climate\",\"nullable\":true,\"type\":\"string\"},{\"metadata\":{},\"name\":\"created\",\"nullable\":true,\"type\":\"string\"},{\"metadata\":{},\"name\":\"diameter\",\"nullable\":true,\"type\":\"string\"},{\"metadata\":{},\"name\":\"edited\",\"nullable\":true,\"type\":\"string\"},{\"metadata\":{},\"name\":\"films\",\"nullable\":true,\"type\":{\"containsNull\":true,\"elementType\":\"string\",\"type\":\"array\"}},{\"metadata\":{},\"name\":\"gravity\",\"nullable\":true,\"type\":\"string\"},{\"metadata\":{},\"name\":\"name\",\"nullable\":true,\"type\":\"string\"},{\"metadata\":{},\"name\":\"orbital_period\",\"nullable\":true,\"type\":\"string\"},{\"metadata\":{},\"name\":\"population\",\"nullable\":true,\"type\":\"string\"},{\"metadata\":{},\"name\":\"residents\",\"nullable\":true,\"type\":{\"containsNull\":true,\"elementType\":\"string\",\"type\":\"array\"}},{\"metadata\":{},\"name\":\"rotation_period\",\"nullable\":true,\"type\":\"string\"},{\"metadata\":{},\"name\":\"surface_water\",\"nullable\":true,\"type\":\"string\"},{\"metadata\":{},\"name\":\"terrain\",\"nullable\":true,\"type\":\"string\"},{\"metadata\":{},\"name\":\"url\",\"nullable\":true,\"type\":\"string\"}],\"type\":\"struct\"},\"type\":\"array\"}},{\"metadata\":{},\"name\":\"dat_load\",\"nullable\":true,\"type\":\"string\"}],\"type\":\"struct\"}\n",
      "table species\n",
      " {\"fields\":[{\"metadata\":{},\"name\":\"count\",\"nullable\":true,\"type\":\"long\"},{\"metadata\":{},\"name\":\"next\",\"nullable\":true,\"type\":\"string\"},{\"metadata\":{},\"name\":\"previous\",\"nullable\":true,\"type\":\"string\"},{\"metadata\":{},\"name\":\"results\",\"nullable\":true,\"type\":{\"containsNull\":true,\"elementType\":{\"fields\":[{\"metadata\":{},\"name\":\"average_height\",\"nullable\":true,\"type\":\"string\"},{\"metadata\":{},\"name\":\"average_lifespan\",\"nullable\":true,\"type\":\"string\"},{\"metadata\":{},\"name\":\"classification\",\"nullable\":true,\"type\":\"string\"},{\"metadata\":{},\"name\":\"created\",\"nullable\":true,\"type\":\"string\"},{\"metadata\":{},\"name\":\"designation\",\"nullable\":true,\"type\":\"string\"},{\"metadata\":{},\"name\":\"edited\",\"nullable\":true,\"type\":\"string\"},{\"metadata\":{},\"name\":\"eye_colors\",\"nullable\":true,\"type\":\"string\"},{\"metadata\":{},\"name\":\"films\",\"nullable\":true,\"type\":{\"containsNull\":true,\"elementType\":\"string\",\"type\":\"array\"}},{\"metadata\":{},\"name\":\"hair_colors\",\"nullable\":true,\"type\":\"string\"},{\"metadata\":{},\"name\":\"homeworld\",\"nullable\":true,\"type\":\"string\"},{\"metadata\":{},\"name\":\"language\",\"nullable\":true,\"type\":\"string\"},{\"metadata\":{},\"name\":\"name\",\"nullable\":true,\"type\":\"string\"},{\"metadata\":{},\"name\":\"people\",\"nullable\":true,\"type\":{\"containsNull\":true,\"elementType\":\"string\",\"type\":\"array\"}},{\"metadata\":{},\"name\":\"skin_colors\",\"nullable\":true,\"type\":\"string\"},{\"metadata\":{},\"name\":\"url\",\"nullable\":true,\"type\":\"string\"}],\"type\":\"struct\"},\"type\":\"array\"}},{\"metadata\":{},\"name\":\"dat_load\",\"nullable\":true,\"type\":\"string\"}],\"type\":\"struct\"}\n",
      "table starships\n",
      " {\"fields\":[{\"metadata\":{},\"name\":\"count\",\"nullable\":true,\"type\":\"long\"},{\"metadata\":{},\"name\":\"next\",\"nullable\":true,\"type\":\"string\"},{\"metadata\":{},\"name\":\"previous\",\"nullable\":true,\"type\":\"string\"},{\"metadata\":{},\"name\":\"results\",\"nullable\":true,\"type\":{\"containsNull\":true,\"elementType\":{\"fields\":[{\"metadata\":{},\"name\":\"MGLT\",\"nullable\":true,\"type\":\"string\"},{\"metadata\":{},\"name\":\"cargo_capacity\",\"nullable\":true,\"type\":\"string\"},{\"metadata\":{},\"name\":\"consumables\",\"nullable\":true,\"type\":\"string\"},{\"metadata\":{},\"name\":\"cost_in_credits\",\"nullable\":true,\"type\":\"string\"},{\"metadata\":{},\"name\":\"created\",\"nullable\":true,\"type\":\"string\"},{\"metadata\":{},\"name\":\"crew\",\"nullable\":true,\"type\":\"string\"},{\"metadata\":{},\"name\":\"edited\",\"nullable\":true,\"type\":\"string\"},{\"metadata\":{},\"name\":\"films\",\"nullable\":true,\"type\":{\"containsNull\":true,\"elementType\":\"string\",\"type\":\"array\"}},{\"metadata\":{},\"name\":\"hyperdrive_rating\",\"nullable\":true,\"type\":\"string\"},{\"metadata\":{},\"name\":\"length\",\"nullable\":true,\"type\":\"string\"},{\"metadata\":{},\"name\":\"manufacturer\",\"nullable\":true,\"type\":\"string\"},{\"metadata\":{},\"name\":\"max_atmosphering_speed\",\"nullable\":true,\"type\":\"string\"},{\"metadata\":{},\"name\":\"model\",\"nullable\":true,\"type\":\"string\"},{\"metadata\":{},\"name\":\"name\",\"nullable\":true,\"type\":\"string\"},{\"metadata\":{},\"name\":\"passengers\",\"nullable\":true,\"type\":\"string\"},{\"metadata\":{},\"name\":\"pilots\",\"nullable\":true,\"type\":{\"containsNull\":true,\"elementType\":\"string\",\"type\":\"array\"}},{\"metadata\":{},\"name\":\"starship_class\",\"nullable\":true,\"type\":\"string\"},{\"metadata\":{},\"name\":\"url\",\"nullable\":true,\"type\":\"string\"}],\"type\":\"struct\"},\"type\":\"array\"}},{\"metadata\":{},\"name\":\"dat_load\",\"nullable\":true,\"type\":\"string\"}],\"type\":\"struct\"}\n",
      "table vehicles\n",
      " {\"fields\":[{\"metadata\":{},\"name\":\"count\",\"nullable\":true,\"type\":\"long\"},{\"metadata\":{},\"name\":\"next\",\"nullable\":true,\"type\":\"string\"},{\"metadata\":{},\"name\":\"previous\",\"nullable\":true,\"type\":\"string\"},{\"metadata\":{},\"name\":\"results\",\"nullable\":true,\"type\":{\"containsNull\":true,\"elementType\":{\"fields\":[{\"metadata\":{},\"name\":\"cargo_capacity\",\"nullable\":true,\"type\":\"string\"},{\"metadata\":{},\"name\":\"consumables\",\"nullable\":true,\"type\":\"string\"},{\"metadata\":{},\"name\":\"cost_in_credits\",\"nullable\":true,\"type\":\"string\"},{\"metadata\":{},\"name\":\"created\",\"nullable\":true,\"type\":\"string\"},{\"metadata\":{},\"name\":\"crew\",\"nullable\":true,\"type\":\"string\"},{\"metadata\":{},\"name\":\"edited\",\"nullable\":true,\"type\":\"string\"},{\"metadata\":{},\"name\":\"films\",\"nullable\":true,\"type\":{\"containsNull\":true,\"elementType\":\"string\",\"type\":\"array\"}},{\"metadata\":{},\"name\":\"length\",\"nullable\":true,\"type\":\"string\"},{\"metadata\":{},\"name\":\"manufacturer\",\"nullable\":true,\"type\":\"string\"},{\"metadata\":{},\"name\":\"max_atmosphering_speed\",\"nullable\":true,\"type\":\"string\"},{\"metadata\":{},\"name\":\"model\",\"nullable\":true,\"type\":\"string\"},{\"metadata\":{},\"name\":\"name\",\"nullable\":true,\"type\":\"string\"},{\"metadata\":{},\"name\":\"passengers\",\"nullable\":true,\"type\":\"string\"},{\"metadata\":{},\"name\":\"pilots\",\"nullable\":true,\"type\":{\"containsNull\":true,\"elementType\":\"string\",\"type\":\"array\"}},{\"metadata\":{},\"name\":\"url\",\"nullable\":true,\"type\":\"string\"},{\"metadata\":{},\"name\":\"vehicle_class\",\"nullable\":true,\"type\":\"string\"}],\"type\":\"struct\"},\"type\":\"array\"}},{\"metadata\":{},\"name\":\"dat_load\",\"nullable\":true,\"type\":\"string\"}],\"type\":\"struct\"}\n",
      "table people\n",
      " {\"fields\":[{\"metadata\":{},\"name\":\"count\",\"nullable\":true,\"type\":\"long\"},{\"metadata\":{},\"name\":\"next\",\"nullable\":true,\"type\":\"string\"},{\"metadata\":{},\"name\":\"previous\",\"nullable\":true,\"type\":\"string\"},{\"metadata\":{},\"name\":\"results\",\"nullable\":true,\"type\":{\"containsNull\":true,\"elementType\":{\"fields\":[{\"metadata\":{},\"name\":\"birth_year\",\"nullable\":true,\"type\":\"string\"},{\"metadata\":{},\"name\":\"created\",\"nullable\":true,\"type\":\"string\"},{\"metadata\":{},\"name\":\"edited\",\"nullable\":true,\"type\":\"string\"},{\"metadata\":{},\"name\":\"eye_color\",\"nullable\":true,\"type\":\"string\"},{\"metadata\":{},\"name\":\"films\",\"nullable\":true,\"type\":{\"containsNull\":true,\"elementType\":\"string\",\"type\":\"array\"}},{\"metadata\":{},\"name\":\"gender\",\"nullable\":true,\"type\":\"string\"},{\"metadata\":{},\"name\":\"hair_color\",\"nullable\":true,\"type\":\"string\"},{\"metadata\":{},\"name\":\"height\",\"nullable\":true,\"type\":\"string\"},{\"metadata\":{},\"name\":\"homeworld\",\"nullable\":true,\"type\":\"string\"},{\"metadata\":{},\"name\":\"mass\",\"nullable\":true,\"type\":\"string\"},{\"metadata\":{},\"name\":\"name\",\"nullable\":true,\"type\":\"string\"},{\"metadata\":{},\"name\":\"skin_color\",\"nullable\":true,\"type\":\"string\"},{\"metadata\":{},\"name\":\"species\",\"nullable\":true,\"type\":{\"containsNull\":true,\"elementType\":\"string\",\"type\":\"array\"}},{\"metadata\":{},\"name\":\"starships\",\"nullable\":true,\"type\":{\"containsNull\":true,\"elementType\":\"string\",\"type\":\"array\"}},{\"metadata\":{},\"name\":\"url\",\"nullable\":true,\"type\":\"string\"},{\"metadata\":{},\"name\":\"vehicles\",\"nullable\":true,\"type\":{\"containsNull\":true,\"elementType\":\"string\",\"type\":\"array\"}}],\"type\":\"struct\"},\"type\":\"array\"}},{\"metadata\":{},\"name\":\"dat_load\",\"nullable\":true,\"type\":\"string\"}],\"type\":\"struct\"}"
     ]
    }
   ],
   "source": [
    "for i in table:\n",
    "    df = spark.read.json(f\"{bucket}/{prefix}/{i}\", multiLine=True)\n",
    "    print(f\"table {i}\\n {df.schema.json()}\")"
   ]
  },
  {
   "cell_type": "code",
   "execution_count": 51,
   "id": "c1ade425-9350-4815-ab48-16bf48ef29cd",
   "metadata": {},
   "outputs": [
    {
     "data": {
      "application/vnd.jupyter.widget-view+json": {
       "model_id": "",
       "version_major": 2,
       "version_minor": 0
      },
      "text/plain": [
       "FloatProgress(value=0.0, bar_style='info', description='Progress:', layout=Layout(height='25px', width='50%'),…"
      ]
     },
     "metadata": {},
     "output_type": "display_data"
    },
    {
     "data": {
      "application/vnd.jupyter.widget-view+json": {
       "model_id": "1752e3e8a9de4a449e81cab44fb24b09",
       "version_major": 2,
       "version_minor": 0
      },
      "text/plain": [
       "VBox(children=(HBox(children=(HTML(value='Type:'), Button(description='Table', layout=Layout(width='70px'), st…"
      ]
     },
     "metadata": {},
     "output_type": "display_data"
    },
    {
     "data": {
      "application/vnd.jupyter.widget-view+json": {
       "model_id": "9cb5bfb444fd419fb135cb5f5a89d94b",
       "version_major": 2,
       "version_minor": 0
      },
      "text/plain": [
       "Output()"
      ]
     },
     "metadata": {},
     "output_type": "display_data"
    }
   ],
   "source": [
    "%%sql\n",
    "select current_date()"
   ]
  },
  {
   "cell_type": "markdown",
   "id": "a18679dd-273c-463b-9ed8-0c4343aa2239",
   "metadata": {},
   "source": [
    "### load dataframe to bucket"
   ]
  },
  {
   "cell_type": "code",
   "execution_count": 97,
   "id": "0acc5634-c0c9-474c-b563-df813452b68c",
   "metadata": {},
   "outputs": [
    {
     "data": {
      "application/vnd.jupyter.widget-view+json": {
       "model_id": "",
       "version_major": 2,
       "version_minor": 0
      },
      "text/plain": [
       "FloatProgress(value=0.0, bar_style='info', description='Progress:', layout=Layout(height='25px', width='50%'),…"
      ]
     },
     "metadata": {},
     "output_type": "display_data"
    },
    {
     "name": "stdout",
     "output_type": "stream",
     "text": [
      "s3://star-wars-etl-dev\n",
      "raw_data\n",
      "planets"
     ]
    }
   ],
   "source": [
    "# load json\n",
    "print(bucket)\n",
    "print(prefix)\n",
    "print(table[1])\n",
    "nam_schema=f'/home/glue_user/workspace/jupyter_workspace/bronze_data/schemas/{table[1]}.json'"
   ]
  },
  {
   "cell_type": "code",
   "execution_count": 98,
   "id": "3f9bf4c2-d781-40f8-915f-0a6d3c3126c4",
   "metadata": {},
   "outputs": [
    {
     "name": "stdout",
     "output_type": "stream",
     "text": [
      "/home/glue_user/workspace/jupyter_workspace/bronze_data\n"
     ]
    }
   ],
   "source": [
    "%%sh\n",
    "pwd"
   ]
  },
  {
   "cell_type": "code",
   "execution_count": 125,
   "id": "6123a58e-ccd6-42fa-bf78-3bba050dd14a",
   "metadata": {},
   "outputs": [
    {
     "data": {
      "application/vnd.jupyter.widget-view+json": {
       "model_id": "",
       "version_major": 2,
       "version_minor": 0
      },
      "text/plain": [
       "FloatProgress(value=0.0, bar_style='info', description='Progress:', layout=Layout(height='25px', width='50%'),…"
      ]
     },
     "metadata": {},
     "output_type": "display_data"
    }
   ],
   "source": [
    "import json"
   ]
  },
  {
   "cell_type": "code",
   "execution_count": 126,
   "id": "aacd86b0-9499-4f58-ad0b-0476f8ca1449",
   "metadata": {},
   "outputs": [
    {
     "data": {
      "application/vnd.jupyter.widget-view+json": {
       "model_id": "",
       "version_major": 2,
       "version_minor": 0
      },
      "text/plain": [
       "FloatProgress(value=0.0, bar_style='info', description='Progress:', layout=Layout(height='25px', width='50%'),…"
      ]
     },
     "metadata": {},
     "output_type": "display_data"
    }
   ],
   "source": [
    "# schema\n",
    "with open(nam_schema, 'r') as f:\n",
    "    data = json.load(f)\n",
    "schema = StructType.fromJson(data)"
   ]
  },
  {
   "cell_type": "code",
   "execution_count": 127,
   "id": "93cf9ec7-ec2c-4485-8770-55021cd722fb",
   "metadata": {},
   "outputs": [
    {
     "data": {
      "application/vnd.jupyter.widget-view+json": {
       "model_id": "",
       "version_major": 2,
       "version_minor": 0
      },
      "text/plain": [
       "FloatProgress(value=0.0, bar_style='info', description='Progress:', layout=Layout(height='25px', width='50%'),…"
      ]
     },
     "metadata": {},
     "output_type": "display_data"
    }
   ],
   "source": [
    "from datetime import datetime\n",
    "dat_load=datetime.now()\n",
    "dat_load=dat_load.strftime('%Y-%m-%d %H:%M:%S')"
   ]
  },
  {
   "cell_type": "code",
   "execution_count": 128,
   "id": "2c51d3dc-d912-4586-9e55-f6db4aa5b5e9",
   "metadata": {},
   "outputs": [
    {
     "data": {
      "application/vnd.jupyter.widget-view+json": {
       "model_id": "",
       "version_major": 2,
       "version_minor": 0
      },
      "text/plain": [
       "FloatProgress(value=0.0, bar_style='info', description='Progress:', layout=Layout(height='25px', width='50%'),…"
      ]
     },
     "metadata": {},
     "output_type": "display_data"
    }
   ],
   "source": [
    "df=spark.read.option(\"multiline\",\"true\").json(f\"{bucket}/{prefix}/{table[1]}\", schema=schema)\n",
    "df=df.select(explode(col('results')).alias('results'))\n",
    "df_exploded = df.select(\"results.*\")\n",
    "df_exploded=df_exploded.withColumn('dat_load',lit(dat_load))\n",
    "df_exploded = df_exploded.withColumn(\"dat_load\", to_timestamp(\"dat_load\", \"yyyy-MM-dd HH:mm:ss\"))"
   ]
  },
  {
   "cell_type": "code",
   "execution_count": 129,
   "id": "a8ed3631-18c3-443e-a8e4-ea7501f882eb",
   "metadata": {},
   "outputs": [
    {
     "data": {
      "application/vnd.jupyter.widget-view+json": {
       "model_id": "",
       "version_major": 2,
       "version_minor": 0
      },
      "text/plain": [
       "FloatProgress(value=0.0, bar_style='info', description='Progress:', layout=Layout(height='25px', width='50%'),…"
      ]
     },
     "metadata": {},
     "output_type": "display_data"
    }
   ],
   "source": [
    "df_exploded.createOrReplaceTempView(f'{table[1]}')"
   ]
  },
  {
   "cell_type": "code",
   "execution_count": 130,
   "id": "c6d286bd-a35a-49f9-91ee-5a9bcff40caf",
   "metadata": {},
   "outputs": [
    {
     "data": {
      "application/vnd.jupyter.widget-view+json": {
       "model_id": "",
       "version_major": 2,
       "version_minor": 0
      },
      "text/plain": [
       "FloatProgress(value=0.0, bar_style='info', description='Progress:', layout=Layout(height='25px', width='50%'),…"
      ]
     },
     "metadata": {},
     "output_type": "display_data"
    },
    {
     "name": "stdout",
     "output_type": "stream",
     "text": [
      "root\n",
      " |-- climate: string (nullable = true)\n",
      " |-- created: timestamp (nullable = true)\n",
      " |-- diameter: integer (nullable = true)\n",
      " |-- edited: timestamp (nullable = true)\n",
      " |-- films: array (nullable = true)\n",
      " |    |-- element: string (containsNull = true)\n",
      " |-- gravity: string (nullable = true)\n",
      " |-- name: string (nullable = true)\n",
      " |-- orbital_period: string (nullable = true)\n",
      " |-- population: string (nullable = true)\n",
      " |-- residents: array (nullable = true)\n",
      " |    |-- element: string (containsNull = true)\n",
      " |-- rotation_period: string (nullable = true)\n",
      " |-- surface_water: string (nullable = true)\n",
      " |-- terrain: string (nullable = true)\n",
      " |-- url: string (nullable = true)\n",
      " |-- dat_load: timestamp (nullable = true)"
     ]
    }
   ],
   "source": [
    "df_exploded.printSchema()"
   ]
  },
  {
   "cell_type": "code",
   "execution_count": 131,
   "id": "a52bf5cb-50f5-4892-b98f-c80a6524e6a5",
   "metadata": {},
   "outputs": [
    {
     "data": {
      "application/vnd.jupyter.widget-view+json": {
       "model_id": "",
       "version_major": 2,
       "version_minor": 0
      },
      "text/plain": [
       "FloatProgress(value=0.0, bar_style='info', description='Progress:', layout=Layout(height='25px', width='50%'),…"
      ]
     },
     "metadata": {},
     "output_type": "display_data"
    },
    {
     "name": "stdout",
     "output_type": "stream",
     "text": [
      "+--------+\n",
      "|diameter|\n",
      "+--------+\n",
      "+--------+"
     ]
    }
   ],
   "source": [
    "df_exploded.select('diameter').show(10)"
   ]
  },
  {
   "cell_type": "code",
   "execution_count": null,
   "id": "0670028d-315e-4a16-90ce-e79360f4904b",
   "metadata": {},
   "outputs": [],
   "source": [
    "bucket='s3://star-wars-etl-dev'\n",
    "prefix='raw_data'\n",
    "table = ['films', 'planets', 'species', 'starships', 'vehicles', 'people']"
   ]
  },
  {
   "cell_type": "code",
   "execution_count": 12,
   "id": "267f1535-6d7c-4ffb-befe-149d2743ad11",
   "metadata": {},
   "outputs": [
    {
     "data": {
      "application/vnd.jupyter.widget-view+json": {
       "model_id": "",
       "version_major": 2,
       "version_minor": 0
      },
      "text/plain": [
       "FloatProgress(value=0.0, bar_style='info', description='Progress:', layout=Layout(height='25px', width='50%'),…"
      ]
     },
     "metadata": {},
     "output_type": "display_data"
    },
    {
     "data": {
      "application/vnd.jupyter.widget-view+json": {
       "model_id": "ec8f7071bffb43f88b60d00fe67ca249",
       "version_major": 2,
       "version_minor": 0
      },
      "text/plain": [
       "VBox(children=(HBox(children=(HTML(value='Type:'), Button(description='Table', layout=Layout(width='70px'), st…"
      ]
     },
     "metadata": {},
     "output_type": "display_data"
    },
    {
     "data": {
      "application/vnd.jupyter.widget-view+json": {
       "model_id": "40412e26aefc4f2bbd8a69ab479a9ce8",
       "version_major": 2,
       "version_minor": 0
      },
      "text/plain": [
       "Output()"
      ]
     },
     "metadata": {},
     "output_type": "display_data"
    }
   ],
   "source": [
    "%%sql\n",
    "select * from films where episode_id=1 limit 10"
   ]
  },
  {
   "cell_type": "code",
   "execution_count": 13,
   "id": "8345fdc5-48f6-40cc-9651-b592f5e33627",
   "metadata": {},
   "outputs": [
    {
     "data": {
      "application/vnd.jupyter.widget-view+json": {
       "model_id": "",
       "version_major": 2,
       "version_minor": 0
      },
      "text/plain": [
       "FloatProgress(value=0.0, bar_style='info', description='Progress:', layout=Layout(height='25px', width='50%'),…"
      ]
     },
     "metadata": {},
     "output_type": "display_data"
    }
   ],
   "source": [
    "df_exploded.write.mode(\"overwrite\").format(\"delta\").save(f'{bucket}/bronze_data/{table[0]}')"
   ]
  },
  {
   "cell_type": "code",
   "execution_count": 14,
   "id": "c07af758-7803-4b07-97a3-b8ef3d2f0537",
   "metadata": {},
   "outputs": [
    {
     "data": {
      "application/vnd.jupyter.widget-view+json": {
       "model_id": "",
       "version_major": 2,
       "version_minor": 0
      },
      "text/plain": [
       "FloatProgress(value=0.0, bar_style='info', description='Progress:', layout=Layout(height='25px', width='50%'),…"
      ]
     },
     "metadata": {},
     "output_type": "display_data"
    },
    {
     "name": "stdout",
     "output_type": "stream",
     "text": [
      "root\n",
      " |-- characters: array (nullable = true)\n",
      " |    |-- element: string (containsNull = true)\n",
      " |-- created: timestamp (nullable = true)\n",
      " |-- director: string (nullable = true)\n",
      " |-- edited: timestamp (nullable = true)\n",
      " |-- episode_id: long (nullable = true)\n",
      " |-- opening_crawl: string (nullable = true)\n",
      " |-- planets: array (nullable = true)\n",
      " |    |-- element: string (containsNull = true)\n",
      " |-- producer: string (nullable = true)\n",
      " |-- release_date: string (nullable = true)\n",
      " |-- species: array (nullable = true)\n",
      " |    |-- element: string (containsNull = true)\n",
      " |-- starships: array (nullable = true)\n",
      " |    |-- element: string (containsNull = true)\n",
      " |-- title: string (nullable = true)\n",
      " |-- url: string (nullable = true)\n",
      " |-- vehicles: array (nullable = true)\n",
      " |    |-- element: string (containsNull = true)\n",
      " |-- dat_load: timestamp (nullable = true)"
     ]
    }
   ],
   "source": [
    "df_exploded.printSchema()"
   ]
  },
  {
   "cell_type": "code",
   "execution_count": 154,
   "id": "16cf239d-aaa7-4631-a1ee-8e43320c6789",
   "metadata": {},
   "outputs": [
    {
     "data": {
      "application/vnd.jupyter.widget-view+json": {
       "model_id": "",
       "version_major": 2,
       "version_minor": 0
      },
      "text/plain": [
       "FloatProgress(value=0.0, bar_style='info', description='Progress:', layout=Layout(height='25px', width='50%'),…"
      ]
     },
     "metadata": {},
     "output_type": "display_data"
    }
   ],
   "source": [
    "## check prefix\n",
    "import boto3\n",
    "def check_table(bucket, prefix):\n",
    "    s3 = boto3.client('s3', region_name='us-east-1')\n",
    "    try:\n",
    "        response=s3.list_objects(Bucket=bucket, Prefix=prefix, MaxKeys=1)\n",
    "        if response.get('Contents')[0].get('Size') > 0:\n",
    "            return True\n",
    "        return response\n",
    "    except Exception as e:\n",
    "        return False"
   ]
  },
  {
   "cell_type": "code",
   "execution_count": 155,
   "id": "ef5772bf-6d5e-4ebe-8813-d9c81bf2b8db",
   "metadata": {},
   "outputs": [
    {
     "data": {
      "application/vnd.jupyter.widget-view+json": {
       "model_id": "",
       "version_major": 2,
       "version_minor": 0
      },
      "text/plain": [
       "FloatProgress(value=0.0, bar_style='info', description='Progress:', layout=Layout(height='25px', width='50%'),…"
      ]
     },
     "metadata": {},
     "output_type": "display_data"
    }
   ],
   "source": [
    "value=check_table('star-wars-etl-dev',f'bronze_data/films/')\n",
    "    "
   ]
  },
  {
   "cell_type": "code",
   "execution_count": 156,
   "id": "fad7a618-7bd0-455a-a9c6-4b0d13799fff",
   "metadata": {},
   "outputs": [
    {
     "data": {
      "application/vnd.jupyter.widget-view+json": {
       "model_id": "",
       "version_major": 2,
       "version_minor": 0
      },
      "text/plain": [
       "FloatProgress(value=0.0, bar_style='info', description='Progress:', layout=Layout(height='25px', width='50%'),…"
      ]
     },
     "metadata": {},
     "output_type": "display_data"
    },
    {
     "name": "stdout",
     "output_type": "stream",
     "text": [
      "True"
     ]
    }
   ],
   "source": [
    "print(value)"
   ]
  },
  {
   "cell_type": "code",
   "execution_count": 188,
   "id": "98b570eb-1055-4661-b164-ab186df61097",
   "metadata": {},
   "outputs": [
    {
     "data": {
      "application/vnd.jupyter.widget-view+json": {
       "model_id": "",
       "version_major": 2,
       "version_minor": 0
      },
      "text/plain": [
       "FloatProgress(value=0.0, bar_style='info', description='Progress:', layout=Layout(height='25px', width='50%'),…"
      ]
     },
     "metadata": {},
     "output_type": "display_data"
    },
    {
     "name": "stderr",
     "output_type": "stream",
     "text": [
      "An error was encountered:\n",
      "'DeltaTable' object is not subscriptable\n",
      "Traceback (most recent call last):\n",
      "TypeError: 'DeltaTable' object is not subscriptable\n",
      "\n"
     ]
    }
   ],
   "source": [
    "table = DeltaTable.forPath(spark, f'{bucket}/bronze_data/{table[0]}')\n",
    "\n",
    "table.alias(\"persisteddata\").merge(df_exploded.alias(\"newdata\"),\"persisteddata.episode_id = newdata.episode_id\") \\\n",
    ".whenMatchedUpdateAll() \\\n",
    ".whenNotMatchedInsertAll() \\\n",
    ".execute()"
   ]
  },
  {
   "cell_type": "code",
   "execution_count": 5,
   "id": "58e34ca7-5129-4f44-bbf9-1aca0fa65cdb",
   "metadata": {},
   "outputs": [
    {
     "data": {
      "application/vnd.jupyter.widget-view+json": {
       "model_id": "",
       "version_major": 2,
       "version_minor": 0
      },
      "text/plain": [
       "FloatProgress(value=0.0, bar_style='info', description='Progress:', layout=Layout(height='25px', width='50%'),…"
      ]
     },
     "metadata": {},
     "output_type": "display_data"
    }
   ],
   "source": [
    "df1 = spark.read.format(\"delta\").load(f'{bucket}/bronze_data/{table[0]}')"
   ]
  },
  {
   "cell_type": "code",
   "execution_count": 8,
   "id": "a2cfb301-e1f4-4477-a48d-e2bbc547ed90",
   "metadata": {},
   "outputs": [
    {
     "data": {
      "application/vnd.jupyter.widget-view+json": {
       "model_id": "",
       "version_major": 2,
       "version_minor": 0
      },
      "text/plain": [
       "FloatProgress(value=0.0, bar_style='info', description='Progress:', layout=Layout(height='25px', width='50%'),…"
      ]
     },
     "metadata": {},
     "output_type": "display_data"
    }
   ],
   "source": [
    "df1.createOrReplaceTempView('films')"
   ]
  },
  {
   "cell_type": "code",
   "execution_count": 11,
   "id": "32a34583-14c0-42c1-9e85-f9f1848c51dd",
   "metadata": {},
   "outputs": [
    {
     "data": {
      "application/vnd.jupyter.widget-view+json": {
       "model_id": "",
       "version_major": 2,
       "version_minor": 0
      },
      "text/plain": [
       "FloatProgress(value=0.0, bar_style='info', description='Progress:', layout=Layout(height='25px', width='50%'),…"
      ]
     },
     "metadata": {},
     "output_type": "display_data"
    },
    {
     "name": "stdout",
     "output_type": "stream",
     "text": [
      "root\n",
      " |-- results: struct (nullable = true)\n",
      " |    |-- characters: array (nullable = true)\n",
      " |    |    |-- element: string (containsNull = true)\n",
      " |    |-- created: timestamp (nullable = true)\n",
      " |    |-- director: string (nullable = true)\n",
      " |    |-- edited: timestamp (nullable = true)\n",
      " |    |-- episode_id: long (nullable = true)\n",
      " |    |-- opening_crawl: string (nullable = true)\n",
      " |    |-- planets: array (nullable = true)\n",
      " |    |    |-- element: string (containsNull = true)\n",
      " |    |-- producer: string (nullable = true)\n",
      " |    |-- release_date: string (nullable = true)\n",
      " |    |-- species: array (nullable = true)\n",
      " |    |    |-- element: string (containsNull = true)\n",
      " |    |-- starships: array (nullable = true)\n",
      " |    |    |-- element: string (containsNull = true)\n",
      " |    |-- title: string (nullable = true)\n",
      " |    |-- url: string (nullable = true)\n",
      " |    |-- vehicles: array (nullable = true)\n",
      " |    |    |-- element: string (containsNull = true)\n",
      " |-- characters: array (nullable = true)\n",
      " |    |-- element: string (containsNull = true)\n",
      " |-- created: timestamp (nullable = true)\n",
      " |-- director: string (nullable = true)\n",
      " |-- edited: timestamp (nullable = true)\n",
      " |-- episode_id: long (nullable = true)\n",
      " |-- opening_crawl: string (nullable = true)\n",
      " |-- planets: array (nullable = true)\n",
      " |    |-- element: string (containsNull = true)\n",
      " |-- producer: string (nullable = true)\n",
      " |-- release_date: string (nullable = true)\n",
      " |-- species: array (nullable = true)\n",
      " |    |-- element: string (containsNull = true)\n",
      " |-- starships: array (nullable = true)\n",
      " |    |-- element: string (containsNull = true)\n",
      " |-- title: string (nullable = true)\n",
      " |-- url: string (nullable = true)\n",
      " |-- vehicles: array (nullable = true)\n",
      " |    |-- element: string (containsNull = true)\n",
      " |-- dat_load: timestamp (nullable = true)"
     ]
    }
   ],
   "source": [
    "df1.printSchema()"
   ]
  },
  {
   "cell_type": "code",
   "execution_count": 16,
   "id": "89eff0d3-057a-47f5-b855-eaf4406d68b3",
   "metadata": {},
   "outputs": [
    {
     "data": {
      "application/vnd.jupyter.widget-view+json": {
       "model_id": "",
       "version_major": 2,
       "version_minor": 0
      },
      "text/plain": [
       "FloatProgress(value=0.0, bar_style='info', description='Progress:', layout=Layout(height='25px', width='50%'),…"
      ]
     },
     "metadata": {},
     "output_type": "display_data"
    },
    {
     "data": {
      "application/vnd.jupyter.widget-view+json": {
       "model_id": "ca80fbb6a709443cb3860f4e220de9eb",
       "version_major": 2,
       "version_minor": 0
      },
      "text/plain": [
       "VBox(children=(HBox(children=(HTML(value='Type:'), Button(description='Table', layout=Layout(width='70px'), st…"
      ]
     },
     "metadata": {},
     "output_type": "display_data"
    },
    {
     "data": {
      "application/vnd.jupyter.widget-view+json": {
       "model_id": "094c0cc7a8234090a945865ad12493a5",
       "version_major": 2,
       "version_minor": 0
      },
      "text/plain": [
       "Output()"
      ]
     },
     "metadata": {},
     "output_type": "display_data"
    }
   ],
   "source": [
    "%%sql\n",
    "select \n",
    "\n",
    "    episode_id, \n",
    "    producer, \n",
    "    title, \n",
    "    release_date, \n",
    "    dat_load \n",
    "    \n",
    "    from films  order by created asc"
   ]
  },
  {
   "cell_type": "markdown",
   "id": "7f5ee2c2-899d-42b6-8c95-83fe9ac4d4b9",
   "metadata": {},
   "source": [
    "### verificando a chave"
   ]
  },
  {
   "cell_type": "code",
   "execution_count": 4,
   "id": "916fbb31-bce1-49ac-812c-a4c4c6accc59",
   "metadata": {},
   "outputs": [
    {
     "data": {
      "application/vnd.jupyter.widget-view+json": {
       "model_id": "",
       "version_major": 2,
       "version_minor": 0
      },
      "text/plain": [
       "FloatProgress(value=0.0, bar_style='info', description='Progress:', layout=Layout(height='25px', width='50%'),…"
      ]
     },
     "metadata": {},
     "output_type": "display_data"
    }
   ],
   "source": [
    "tables = ['films', 'planets', 'species','starships', 'vehicles', 'people']"
   ]
  },
  {
   "cell_type": "code",
   "execution_count": 132,
   "id": "a741d4ac-1bff-4d13-9177-01ccc45cbded",
   "metadata": {},
   "outputs": [
    {
     "data": {
      "application/vnd.jupyter.widget-view+json": {
       "model_id": "",
       "version_major": 2,
       "version_minor": 0
      },
      "text/plain": [
       "FloatProgress(value=0.0, bar_style='info', description='Progress:', layout=Layout(height='25px', width='50%'),…"
      ]
     },
     "metadata": {},
     "output_type": "display_data"
    }
   ],
   "source": [
    "my_dict =[ \n",
    "    {\"nam_table\":\"films\", \"id_table\":\"episode_id\"},\n",
    "    {\"nam_table\":\"planets\", \"id_table\":\"name\"},\n",
    "    {\"nam_table\":\"species\", \"id_table\":\"name\"},\n",
    "    {\"nam_table\":\"starships\", \"id_table\":\"name\"},\n",
    "    {\"nam_table\":\"vehicles\", \"id_table\":\"name\"},\n",
    "    {\"nam_table\":\"people\", \"id_table\":\"name\"},\n",
    "]"
   ]
  },
  {
   "cell_type": "code",
   "execution_count": 133,
   "id": "0914489c-8123-45e6-826d-47182f5b80b3",
   "metadata": {},
   "outputs": [
    {
     "data": {
      "application/vnd.jupyter.widget-view+json": {
       "model_id": "",
       "version_major": 2,
       "version_minor": 0
      },
      "text/plain": [
       "FloatProgress(value=0.0, bar_style='info', description='Progress:', layout=Layout(height='25px', width='50%'),…"
      ]
     },
     "metadata": {},
     "output_type": "display_data"
    },
    {
     "name": "stdout",
     "output_type": "stream",
     "text": [
      "films episode_id\n",
      "planets name\n",
      "species name\n",
      "starships name\n",
      "vehicles name\n",
      "people name"
     ]
    }
   ],
   "source": [
    "for i in my_dict:\n",
    "    print(i.get('nam_table'),i.get('id_table'))\n",
    "    "
   ]
  },
  {
   "cell_type": "markdown",
   "id": "be1f6eff-4095-40ef-af2c-a5409bf577e0",
   "metadata": {},
   "source": [
    "### Verificando merge "
   ]
  },
  {
   "cell_type": "code",
   "execution_count": 157,
   "id": "48a63d8b-d9cb-4219-b83b-0939b1eb76b3",
   "metadata": {},
   "outputs": [
    {
     "data": {
      "application/vnd.jupyter.widget-view+json": {
       "model_id": "",
       "version_major": 2,
       "version_minor": 0
      },
      "text/plain": [
       "FloatProgress(value=0.0, bar_style='info', description='Progress:', layout=Layout(height='25px', width='50%'),…"
      ]
     },
     "metadata": {},
     "output_type": "display_data"
    }
   ],
   "source": [
    "df1 = spark.read.format(\"delta\").load(f's3://star-wars-etl-dev/bronze_data/planets')"
   ]
  },
  {
   "cell_type": "code",
   "execution_count": 158,
   "id": "acb18712-7c31-4717-b91a-3f08dfc8aecb",
   "metadata": {},
   "outputs": [
    {
     "data": {
      "application/vnd.jupyter.widget-view+json": {
       "model_id": "",
       "version_major": 2,
       "version_minor": 0
      },
      "text/plain": [
       "FloatProgress(value=0.0, bar_style='info', description='Progress:', layout=Layout(height='25px', width='50%'),…"
      ]
     },
     "metadata": {},
     "output_type": "display_data"
    },
    {
     "name": "stdout",
     "output_type": "stream",
     "text": [
      "root\n",
      " |-- climate: string (nullable = true)\n",
      " |-- created: string (nullable = true)\n",
      " |-- diameter: string (nullable = true)\n",
      " |-- edited: string (nullable = true)\n",
      " |-- films: array (nullable = true)\n",
      " |    |-- element: string (containsNull = true)\n",
      " |-- gravity: string (nullable = true)\n",
      " |-- name: string (nullable = true)\n",
      " |-- orbital_period: string (nullable = true)\n",
      " |-- population: string (nullable = true)\n",
      " |-- residents: array (nullable = true)\n",
      " |    |-- element: string (containsNull = true)\n",
      " |-- rotation_period: string (nullable = true)\n",
      " |-- surface_water: string (nullable = true)\n",
      " |-- terrain: string (nullable = true)\n",
      " |-- url: string (nullable = true)\n",
      " |-- dat_load: timestamp (nullable = true)"
     ]
    }
   ],
   "source": [
    "df1.printSchema()"
   ]
  },
  {
   "cell_type": "code",
   "execution_count": 161,
   "id": "ab493072-c38d-4bc6-aa80-cd666aa083ea",
   "metadata": {},
   "outputs": [
    {
     "data": {
      "application/vnd.jupyter.widget-view+json": {
       "model_id": "",
       "version_major": 2,
       "version_minor": 0
      },
      "text/plain": [
       "FloatProgress(value=0.0, bar_style='info', description='Progress:', layout=Layout(height='25px', width='50%'),…"
      ]
     },
     "metadata": {},
     "output_type": "display_data"
    }
   ],
   "source": [
    "df2=df1.select('name','films','url')"
   ]
  },
  {
   "cell_type": "code",
   "execution_count": 162,
   "id": "3a840d46-6bc7-47b3-948e-6f827d200203",
   "metadata": {},
   "outputs": [
    {
     "data": {
      "application/vnd.jupyter.widget-view+json": {
       "model_id": "",
       "version_major": 2,
       "version_minor": 0
      },
      "text/plain": [
       "FloatProgress(value=0.0, bar_style='info', description='Progress:', layout=Layout(height='25px', width='50%'),…"
      ]
     },
     "metadata": {},
     "output_type": "display_data"
    },
    {
     "name": "stdout",
     "output_type": "stream",
     "text": [
      "+--------------+----------------------------------------------------------------+---------------------------------+\n",
      "|name          |films                                                           |url                              |\n",
      "+--------------+----------------------------------------------------------------+---------------------------------+\n",
      "|Alderaan      |[https://swapi.dev/api/films/1/, https://swapi.dev/api/films/6/]|https://swapi.dev/api/planets/2/ |\n",
      "|Aleen Minor   |[]                                                              |https://swapi.dev/api/planets/38/|\n",
      "|Bespin        |[https://swapi.dev/api/films/2/]                                |https://swapi.dev/api/planets/6/ |\n",
      "|Bestine IV    |[]                                                              |https://swapi.dev/api/planets/26/|\n",
      "|Cato Neimoidia|[https://swapi.dev/api/films/6/]                                |https://swapi.dev/api/planets/18/|\n",
      "|Cerea         |[]                                                              |https://swapi.dev/api/planets/43/|\n",
      "|Champala      |[]                                                              |https://swapi.dev/api/planets/50/|\n",
      "|Chandrila     |[]                                                              |https://swapi.dev/api/planets/32/|\n",
      "|Concord Dawn  |[]                                                              |https://swapi.dev/api/planets/53/|\n",
      "|Corellia      |[]                                                              |https://swapi.dev/api/planets/22/|\n",
      "+--------------+----------------------------------------------------------------+---------------------------------+\n",
      "only showing top 10 rows"
     ]
    }
   ],
   "source": [
    "df2.show(10, truncate=False)"
   ]
  },
  {
   "cell_type": "code",
   "execution_count": 165,
   "id": "0d7a371c-dcd6-48c3-b61e-320895aa94ac",
   "metadata": {},
   "outputs": [
    {
     "data": {
      "application/vnd.jupyter.widget-view+json": {
       "model_id": "",
       "version_major": 2,
       "version_minor": 0
      },
      "text/plain": [
       "FloatProgress(value=0.0, bar_style='info', description='Progress:', layout=Layout(height='25px', width='50%'),…"
      ]
     },
     "metadata": {},
     "output_type": "display_data"
    },
    {
     "name": "stdout",
     "output_type": "stream",
     "text": [
      "60"
     ]
    }
   ],
   "source": [
    "df2.select('name').drop_duplicates().count()"
   ]
  },
  {
   "cell_type": "code",
   "execution_count": 166,
   "id": "3fff1cd0-b955-4452-bebe-b70fd97b3510",
   "metadata": {},
   "outputs": [
    {
     "data": {
      "application/vnd.jupyter.widget-view+json": {
       "model_id": "",
       "version_major": 2,
       "version_minor": 0
      },
      "text/plain": [
       "FloatProgress(value=0.0, bar_style='info', description='Progress:', layout=Layout(height='25px', width='50%'),…"
      ]
     },
     "metadata": {},
     "output_type": "display_data"
    },
    {
     "name": "stdout",
     "output_type": "stream",
     "text": [
      "60"
     ]
    }
   ],
   "source": [
    "df2.select('name').count()"
   ]
  },
  {
   "cell_type": "code",
   "execution_count": null,
   "id": "9dbca160-447b-4d76-a44b-67d258a83896",
   "metadata": {},
   "outputs": [],
   "source": []
  }
 ],
 "metadata": {
  "kernelspec": {
   "display_name": "PySpark",
   "language": "python",
   "name": "pysparkkernel"
  },
  "language_info": {
   "codemirror_mode": {
    "name": "python",
    "version": 3
   },
   "file_extension": ".py",
   "mimetype": "text/x-python",
   "name": "pyspark",
   "pygments_lexer": "python3"
  }
 },
 "nbformat": 4,
 "nbformat_minor": 5
}
